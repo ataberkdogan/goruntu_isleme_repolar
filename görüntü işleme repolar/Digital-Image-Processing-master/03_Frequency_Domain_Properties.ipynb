{
  "nbformat": 4,
  "nbformat_minor": 0,
  "metadata": {
    "colab": {
      "provenance": []
    },
    "kernelspec": {
      "name": "python3",
      "display_name": "Python 3"
    }
  },
  "cells": [
    {
      "cell_type": "markdown",
      "metadata": {
        "id": "view-in-github"
      },
      "source": [
        "<a href=\"https://colab.research.google.com/github/Ali-Ahmadi/Digital-Image-Processing/blob/master/03_Frequency_Domain_Properties.ipynb\" target=\"_parent\"><img src=\"https://colab.research.google.com/assets/colab-badge.svg\" alt=\"Open In Colab\"/></a>"
      ]
    },
    {
      "cell_type": "markdown",
      "metadata": {
        "id": "_fD6l-VCGYll"
      },
      "source": [
        "Bu dosya yakın gelecekte daha eksiksiz hale gelecektir.\n",
        "\n",
        "Ancak bu bağlantıları referans olarak kullanabilirsiniz.\n",
        "\n",
        "[1st](https://docs.opencv.org/3.0-beta/doc/py_tutorials/py_imgproc/py_transforms/py_fourier_transform/py_fourier_transform.html),\n",
        "[2nd](http://cns-alumni.bu.edu/~slehar/fourier/fourier.html),\n",
        "[3rd](https://www.bogotobogo.com/python/OpenCV_Python/python_opencv3_Image_Fourier_Transform_FFT_DFT.php),\n",
        "[4th](https://www.bogotobogo.com/python/OpenCV_Python/python_opencv3_Signal_Processing_with_NumPy_Fourier_Transform_FFT_DFT_2.php),\n",
        "[5th](https://docs.opencv.org/3.4/d8/d01/tutorial_discrete_fourier_transform.html).\n",
        "\n",
        "\n"
      ]
    },
    {
      "cell_type": "code",
      "metadata": {
        "id": "1r51D4yAGPBc"
      },
      "source": [],
      "execution_count": null,
      "outputs": []
    }
  ]
}