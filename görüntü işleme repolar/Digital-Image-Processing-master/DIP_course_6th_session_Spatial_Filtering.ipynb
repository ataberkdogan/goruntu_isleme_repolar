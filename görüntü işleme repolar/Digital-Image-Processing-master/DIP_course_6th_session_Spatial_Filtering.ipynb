{
  "nbformat": 4,
  "nbformat_minor": 0,
  "metadata": {
    "colab": {
      "provenance": []
    },
    "kernelspec": {
      "name": "python3",
      "display_name": "Python 3"
    }
  },
  "cells": [
    {
      "cell_type": "markdown",
      "metadata": {
        "id": "view-in-github"
      },
      "source": [
        "<a href=\"https://colab.research.google.com/github/Seyed-Ali-Ahmadi/Digital-Image-Processing/blob/master/DIP_course_6th_session_Spatial_Filtering.ipynb\" target=\"_parent\"><img src=\"https://colab.research.google.com/assets/colab-badge.svg\" alt=\"Open In Colab\"/></a>"
      ]
    },
    {
      "cell_type": "markdown",
      "metadata": {
        "id": "1dpBCN5KQAip"
      },
      "source": [
        "[Bazı bölümleri bu eğitime dayanmaktadır.](https://www.geeksforgeeks.org/spatial-filtering-and-its-types/)"
      ]
    },
    {
      "cell_type": "markdown",
      "metadata": {
        "id": "0v4GNMIsHmlg"
      },
      "source": [
        "# Uzamsal Filtreleme\n",
        "\n",
        "**Uzaysal Filtreleme** tekniği doğrudan görüntünün pikselleri üzerinde kullanılır. Maskenin genellikle belirli bir merkez piksele sahip olacak şekilde boyut olarak eklendiği kabul edilir. Bu maske, maskenin merkezi tüm görüntü piksellerini geçecek şekilde görüntü üzerinde hareket ettirilir.\n",
        "\n",
        "1. Doğrusal Uzamsal Filtre\n",
        "2. Doğrusal Olmayan Uzamsal Filtre\n",
        "\n",
        "![Görüntü filtreleme 1](https://ars.els-cdn.com/content/image/3-s2.0-B9780128014141000041-f04-03-9780128014141.jpg)\n"
      ]
    },
    {
      "cell_type": "markdown",
      "metadata": {
        "id": "9AYMj2BVOm9M"
      },
      "source": [
        "**Uzaysal Düzeltme Filtresi:** Görüntüdeki bulanıklık ve gürültüyü azaltmak için yumuşatma filtresi kullanılır. Bulanıklaştırma, küçük ayrıntıların kaldırılmasına yönelik ön işleme adımlarıdır ve Gürültü Azaltma, bulanıklaştırma yoluyla gerçekleştirilir.\n",
        "\n",
        "Uzamsal Filtreyi Düzeltme Türleri:\n",
        "\n",
        "1. Doğrusal Filtre (Ortalama Filtre)\n",
        "2. Sipariş İstatistikleri (Doğrusal Olmayan) filtresi\n",
        "\n",
        "Bunlar aşağıda aşağıdaki şekilde açıklanmaktadır.\n",
        "\n",
        "**Ortalama Filtre:**\n",
        "\n",
        "Doğrusal uzaysal filtre, filtre maskesinin yakınında bulunan piksellerin ortalamasıdır. Buradaki fikir, bir görüntüdeki her pikselin değerini, filtre maskesi tarafından tanımlanan mahalledeki gri düzeylerin ortalaması ile değiştirmektir.\n",
        "\n",
        "Ortalama filtre türleri:\n",
        "\n",
        "> *(i) Ortalama filtresi:* Görüntüdeki detayların azaltılmasında kullanılır. Tüm katsayılar eşittir.\n",
        "\n",
        "![Ortalama](https://i.stack.imgur.com/4TGrs.png)\n",
        "\n",
        "\n",
        "> *(ii) Ağırlıklı ortalama filtresi:* Burada pikseller farklı katsayılarla çarpılır. Merkez piksel, ortalama filtreden daha yüksek bir değerle çarpılır.\n",
        "\n",
        "\n",
        "**Sipariş İstatistikleri Filtresi:**\n",
        "\n",
        "Filtrenin kapsadığı görüntü alanındaki piksellerin sıralanmasına dayanır. Merkez pikselin değerini sıralama sonucu tarafından belirlenen değerle değiştirir. Bu filtrelemede kenarlar daha iyi korunur.\n",
        "\n",
        "Sipariş istatistikleri filtresi türleri:\n",
        "\n",
        "> *(i) Minimum filtre:* 0'ıncı yüzdelik filtre minimum filtredir. Merkezin değeri penceredeki en küçük değerle değiştirilir.\n",
        "\n",
        "> *(ii) Maksimum filtre:* 100'üncü yüzdelik filtre maksimum filtredir. Merkezin değeri penceredeki en büyük değerle değiştirilir.\n",
        "\n",
        "> *(iii) Medyan filtresi:* Görüntüdeki her piksel dikkate alınır. İlk komşu pikseller sıralanır ve pikselin orijinal değerleri, listenin medyanı ile değiştirilir."
      ]
    },
    {
      "cell_type": "markdown",
      "metadata": {
        "id": "yUroDEXrS8Bp"
      },
      "source": [
        "## Görüntü Evrişimi\n",
        "\n",
        "![görüntü evrişimi gif](https://upload.wikimedia.org/wikipedia/commons/6/6a/Convolution_of_box_signal_with_itself2.gif)\n",
        "\n",
        "\n",
        "**Bir görüntü üzerinde evrişim nasıl yapılır?**\n",
        "\n",
        "\n",
        "![Görüntünün evrişimi](http://deeplearning.net/software/theano/_images/same_padding_no_strides_transposed.gif)\n",
        "\n",
        "Peki değerler nasıl hesaplanır? İşte bir örnek...\n",
        "\n",
        "![Görüntünün evrişimi, aritmetik](https://miro.medium.com/max/1400/1*O06nY1U7zoP4vE5AZEnxKA.gif)"
      ]
    },
    {
      "cell_type": "markdown",
      "metadata": {
        "id": "hDfmHgUkSZrK"
      },
      "source": [
        "Görüntü çok kanallıysa ne olur?\n",
        "\n",
        "Yani çekirdek aynı zamanda çok kanallı bir çekirdek olacaktır ve evrişim tüm kanallarda meydana gelecektir. Bu şekilde tanıtılıyor.\n",
        "\n",
        "![çok kanallı evrişim](https://static.wixstatic.com/media/d77a32_33b30b2cb7594a74962635f625fcd5f5~mv2.png/v1/fill/w_159,h_230,al_c,q_85,usm_0.66_1.00_0.01/1_NsiYxt8tPDQyjyH3C08PVA_2x.webp)\n",
        "\n",
        "Şimdi animasyonda nasıl hareket ettiğine bakın:\n",
        "\n",
        "![Çok kanallı evrişim](https://lh4.googleusercontent.com/YLAIo_FvooqiS6OIJtlhwVbGR33PbTRXMykYADYz_zXlCutsn6znaAuDuIC5FXgUodCiP_SmI9o0k2qJTdheVxiO7hhK9Y2kjCAg7j4r1-lhb0ALGGiZq4gvivViz5k7HtCFITVI)\n",
        "\n",
        "\n",
        "![görüntü keskinleştirme](https://i.stack.imgur.com/YDusp.png)\n",
        "\n"
      ]
    }
  ]
}