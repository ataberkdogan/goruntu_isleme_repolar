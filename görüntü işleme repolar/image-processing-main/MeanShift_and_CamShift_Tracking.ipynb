{
  "cells": [
    {
      "cell_type": "markdown",
      "id": "e6a484a9",
      "metadata": {
        "id": "e6a484a9"
      },
      "source": [
        "##Ortalama Kayma Takibi\n",
        "\n",
        "https://stackoverflow.com/questions/4831813/image-segmentation-using-mean-shift-explained"
      ]
    },
    {
      "cell_type": "code",
      "execution_count": null,
      "id": "0c2edf9e",
      "metadata": {
        "id": "0c2edf9e"
      },
      "outputs": [],
      "source": [
        "import numpy as np\n",
        "import cv2\n"
      ]
    },
    {
      "cell_type": "code",
      "execution_count": null,
      "id": "0913d06c",
      "metadata": {
        "id": "0913d06c"
      },
      "outputs": [],
      "source": [
        "\n",
        "# Video akışı yakalama\n",
        "cap = cv2.VideoCapture(0)\n",
        "\n",
        "# videonun ilk karesini al\n",
        "ret,frame = cap.read()\n",
        "\n",
        "\n",
        "# İlk İzleme Penceresini Ayarlama\n",
        "\n",
        "\n",
        "# İlk önce yüzü tespit edeceğiz ve bunu başlangıç ​​kutumuz olarak ayarlayacağız.\n",
        "face_cascade = cv2.CascadeClassifier('../DATA/haarcascades/haarcascade_frontalface_default.xml')\n",
        "face_rects = face_cascade.detectMultiScale(frame)\n",
        "\n",
        "# Bu tek dizi listesini (x,y,w,h) dizisine dönüştürün\n",
        "(face_x,face_y,w,h) = tuple(face_rects[0])\n",
        "track_window = (face_x,face_y,w,h)\n",
        "# izleme için yatırım getirisini ayarlama\n",
        "roi = frame[face_y:face_y+h, face_x:face_x+w]\n",
        "\n",
        "\n",
        "# HSV Renk Eşlemesini kullanın\n",
        "hsv_roi =  cv2.cvtColor(roi, cv2.COLOR_BGR2HSV)\n",
        "\n",
        "# Anlamsız hesaplama için her karede hedefi geri yansıtmak üzere histogramı bulun\n",
        "roi_hist = cv2.calcHist([hsv_roi],[0],None,[180],[0,180])\n",
        "\n",
        "# Minimum 0 ve maksimum 255 olarak verilen histogram dizisi değerlerini normalleştirin\n",
        "cv2.normalize(roi_hist,roi_hist,0,255,cv2.NORM_MINMAX)\n",
        "\n",
        "\n",
        "# Sonlandırma kriterlerini 10 yinelemeyle ayarlayın veya en az 1 puan hareket ettirin\n",
        "term_crit = ( cv2.TERM_CRITERIA_EPS | cv2.TERM_CRITERIA_COUNT, 10, 1 )\n",
        "\n",
        "while True:\n",
        "    ret ,frame = cap.read()\n",
        "    if ret == True:\n",
        "\n",
        "        # HSV'deki Çerçeveyi Yakalayın\n",
        "        hsv = cv2.cvtColor(frame, cv2.COLOR_BGR2HSV)\n",
        "\n",
        "        # Daha önce oluşturulan roi_hist'e dayanarak Geri Projeksiyon'u hesaplayın\n",
        "        dst = cv2.calcBackProject([hsv],[0],roi_hist,[0,180],1)\n",
        "\n",
        "        # Dikdörtgenin yeni koordinatlarını elde etmek için anlam kaydırmayı uygulayın\n",
        "        ret, track_window = cv2.meanShift(dst, track_window, term_crit)\n",
        "\n",
        "        # Görüntünün üzerine yeni dikdörtgeni çizin\n",
        "        x,y,w,h = track_window\n",
        "        img2 = cv2.rectangle(frame, (x,y), (x+w,y+h), (0,0,255),5)\n",
        "\n",
        "        cv2.imshow('img2',img2)\n",
        "\n",
        "\n",
        "        k = cv2.waitKey(1) & 0xff\n",
        "        if k == 27:\n",
        "            break\n",
        "\n",
        "    else:\n",
        "        break\n",
        "\n",
        "cv2.destroyAllWindows()\n",
        "cap.release()"
      ]
    },
    {
      "cell_type": "markdown",
      "id": "e015a580",
      "metadata": {
        "id": "e015a580"
      },
      "source": [
        "## CamShift Takibi"
      ]
    },
    {
      "cell_type": "code",
      "execution_count": null,
      "id": "96e177ed",
      "metadata": {
        "id": "96e177ed"
      },
      "outputs": [],
      "source": [
        "# Video akışı yakalama\n",
        "cap = cv2.VideoCapture(0)\n",
        "\n",
        "# videonun ilk karesini al\n",
        "ret,frame = cap.read()\n",
        "\n",
        "\n",
        "# İlk İzleme Penceresini Ayarlama\n",
        "\n",
        "\n",
        "# İlk önce yüzü tespit edeceğiz ve bunu başlangıç ​​kutumuz olarak ayarlayacağız.\n",
        "face_cascade = cv2.CascadeClassifier('../DATA/haarcascades/haarcascade_frontalface_default.xml')\n",
        "face_rects = face_cascade.detectMultiScale(frame)\n",
        "\n",
        "# Bu tek dizi listesini (x,y,w,h) dizisine dönüştürün\n",
        "(face_x,face_y,w,h) = tuple(face_rects[0])\n",
        "track_window = (face_x,face_y,w,h)\n",
        "# set up the ROI for tracking\n",
        "roi = frame[face_y:face_y+h, face_x:face_x+w]\n",
        "\n",
        "\n",
        "# HSV Renk Eşlemesini kullanın\n",
        "hsv_roi =  cv2.cvtColor(roi, cv2.COLOR_BGR2HSV)\n",
        "\n",
        "# Anlamsız hesaplama için her karede hedefi geri yansıtmak üzere histogramı bulun\n",
        "roi_hist = cv2.calcHist([hsv_roi],[0],None,[180],[0,180])\n",
        "\n",
        "#Minimum 0 ve maksimum 255 olarak verilen histogram dizisi değerlerini normalleştirin\n",
        "cv2.normalize(roi_hist,roi_hist,0,255,cv2.NORM_MINMAX)\n",
        "\n",
        "\n",
        "# Sonlandırma kriterlerini 10 yinelemeyle ayarlayın veya en az 1 puan hareket ettirin\n",
        "term_crit = ( cv2.TERM_CRITERIA_EPS | cv2.TERM_CRITERIA_COUNT, 10, 1 )\n",
        "\n",
        "while True:\n",
        "    ret ,frame = cap.read()\n",
        "    if ret == True:\n",
        "\n",
        "        # HSV'deki Çerçeveyi Yakalayın\n",
        "        hsv = cv2.cvtColor(frame, cv2.COLOR_BGR2HSV)\n",
        "\n",
        "        # Daha önce oluşturulan roi_hist'e dayanarak Geri Projeksiyon'u hesaplayın\n",
        "        dst = cv2.calcBackProject([hsv],[0],roi_hist,[0,180],1)\n",
        "\n",
        "        #########################################################\n",
        "        #########################################################\n",
        "        ########## KAM KAYDIRMA ####################################\n",
        "        ########################################################\n",
        "        #######################################################\n",
        "\n",
        "        # Dikdörtgenin yeni koordinatlarını elde etmek için Camshift'i uygulayın\n",
        "        ret, track_window = cv2.CamShift(dst, track_window, term_crit)\n",
        "\n",
        "        # Resmin üzerine çiz\n",
        "        pts = cv2.boxPoints(ret)\n",
        "        pts = np.int0(pts)\n",
        "        img2 = cv2.polylines(frame,[pts],True, (0,0,255),5)\n",
        "        cv2.imshow('img2',img2)\n",
        "\n",
        "        ########################################################\n",
        "        #######################################################\n",
        "        ########################################################\n",
        "        #######################################################\n",
        "\n",
        "        k = cv2.waitKey(1) & 0xff\n",
        "        if k == 27:\n",
        "            break\n",
        "\n",
        "    else:\n",
        "        break\n",
        "\n",
        "cv2.destroyAllWindows()\n",
        "cap.release()"
      ]
    }
  ],
  "metadata": {
    "kernelspec": {
      "display_name": "Python 3",
      "language": "python",
      "name": "python3"
    },
    "language_info": {
      "codemirror_mode": {
        "name": "ipython",
        "version": 3
      },
      "file_extension": ".py",
      "mimetype": "text/x-python",
      "name": "python",
      "nbconvert_exporter": "python",
      "pygments_lexer": "ipython3",
      "version": "3.8.5"
    },
    "colab": {
      "provenance": []
    }
  },
  "nbformat": 4,
  "nbformat_minor": 5
}