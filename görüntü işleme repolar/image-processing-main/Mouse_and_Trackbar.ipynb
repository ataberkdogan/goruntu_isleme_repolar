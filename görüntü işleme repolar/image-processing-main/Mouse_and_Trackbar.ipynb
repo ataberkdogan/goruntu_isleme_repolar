{
  "cells": [
    {
      "cell_type": "code",
      "execution_count": 3,
      "id": "ae97f1ac",
      "metadata": {
        "id": "ae97f1ac"
      },
      "outputs": [],
      "source": [
        "import cv2\n",
        "import numpy as np\n",
        "import matplotlib.pyplot as plt"
      ]
    },
    {
      "cell_type": "markdown",
      "id": "21553d58-d152-44da-a6a1-1bde6902b4c6",
      "metadata": {
        "id": "21553d58-d152-44da-a6a1-1bde6902b4c6"
      },
      "source": [
        "## Fare Olayları"
      ]
    },
    {
      "cell_type": "code",
      "execution_count": null,
      "id": "74db6147",
      "metadata": {
        "id": "74db6147"
      },
      "outputs": [],
      "source": [
        "# pencereyi kapama\n",
        "\n",
        "def draw_circle(event, x, y, flags, param):\n",
        "    if event == cv2.EVENT_LBUTTONDOWN:\n",
        "        cv2.circle(img, (x, y), 100, (0, 255, 0), -1)\n",
        "    elif event == cv2.EVENT_RBUTTONDOWN:\n",
        "        cv2.circle(img, (x, y), 100, (255, 0, 0), -1)\n",
        "\n",
        "cv2.namedWindow(winname='draw')\n",
        "\n",
        "cv2.setMouseCallback('draw', draw_circle)\n",
        "\n",
        "img = np.zeros((512, 512, 3), dtype=np.int8)\n",
        "\n",
        "## ** gri tuval çünkü np.int8'in değer aralığı -128 ... 127.. arasındadır, dolayısıyla 0'dan başlayan herhangi bir değer +127 olacaktır.\n",
        "# [-128,127], [0,255] ile eşlenir\n",
        "# uint8 = 0..255\n",
        "while True:\n",
        "    cv2.imshow('draw', img)\n",
        "    if cv2.waitKey(20) & 0xFF == 27:\n",
        "        break\n",
        "cv2.destroyAllWindows()\n",
        "plt.imshow(img)\n",
        "\n",
        "# rengin plt ve cv2 tarafından yorumlanmasının rgb ve bgr'den nasıl farklı olduğuna dikkat edin"
      ]
    },
    {
      "cell_type": "code",
      "execution_count": null,
      "id": "2c042013",
      "metadata": {
        "id": "2c042013",
        "outputId": "db135f14-5143-4545-a5e3-cb39d70cc73c"
      },
      "outputs": [
        {
          "data": {
            "text/plain": [
              "<matplotlib.image.AxesImage at 0x1fd2e1902b0>"
            ]
          },
          "execution_count": 9,
          "metadata": {},
          "output_type": "execute_result"
        },
        {
          "data": {
            "image/png": "[encoded data removed]",
            "text/plain": [
              "<Figure size 432x288 with 1 Axes>"
            ]
          },
          "metadata": {
            "needs_background": "light"
          },
          "output_type": "display_data"
        }
      ],
      "source": [
        "drawing = False\n",
        "ix, iy = -1, -1\n",
        "jx, jy = 0, 0\n",
        "\n",
        "def draw_rectangle(event, x, y, flags, param):\n",
        "    global ix, iy, jy, jx, drawing\n",
        "    if event == cv2.EVENT_LBUTTONDOWN:\n",
        "        drawing = True\n",
        "        ix, iy = x, y\n",
        "        jx, jy = x, y\n",
        "    elif event == cv2.EVENT_MOUSEMOVE:\n",
        "        if drawing == True:\n",
        "\n",
        "            if x<jx or y<jy:\n",
        "                cv2.rectangle(img, (ix, iy), (jx, jy), (0, 0, 0), -1)\n",
        "            cv2.rectangle(img, (ix, iy), (x, y), (0, 255, 0), -1)\n",
        "            jx, jy = x, y\n",
        "    elif event == cv2.EVENT_LBUTTONUP:\n",
        "        drawing = False\n",
        "\n",
        "        cv2.rectangle(img, (ix, iy), (x, y), (0, 255, 0), -1)\n",
        "\n",
        "\n",
        "\n",
        "cv2.namedWindow(winname='draw')\n",
        "\n",
        "cv2.setMouseCallback('draw', draw_rectangle)\n",
        "\n",
        "img = np.zeros((512, 512, 3), dtype=np.uint8)\n",
        "\n",
        "## ** gri tuval çünkü np.int8'in değer aralığı -128 ... 127.. arasındadır, dolayısıyla 0'dan başlayan herhangi bir değer +127 olacaktır.\n",
        "# [-128,127], [0,255] ile eşlendi\n",
        "# uint8 = 0..255\n",
        "while True:\n",
        "    cv2.imshow('draw', img)\n",
        "    if cv2.waitKey(20) & 0xFF == 27:\n",
        "        break\n",
        "cv2.destroyAllWindows()\n",
        "plt.imshow(img)"
      ]
    },
    {
      "cell_type": "markdown",
      "id": "d4e9b8e7-d919-411b-9378-2e38d3372afe",
      "metadata": {
        "id": "d4e9b8e7-d919-411b-9378-2e38d3372afe"
      },
      "source": [
        "## İzleme çubuğu"
      ]
    },
    {
      "cell_type": "code",
      "execution_count": null,
      "id": "7dd9d1c2",
      "metadata": {
        "id": "7dd9d1c2"
      },
      "outputs": [],
      "source": [
        "maxScaleUp = 100\n",
        "scaleFactor = 1\n",
        "windowName = \"Görüntüyü yeniden boyutlandırmak\"\n",
        "trackbarValue = \"Ölçek\"\n",
        "\n",
        "# resmi oku\n",
        "img = cv2.imread(\"/content/lena_std.tif\")\n",
        "\n",
        "# Sonuçları görüntülemek için bir pencere oluşturun ve bayrağı Otomatik Boyutlandır olarak ayarlayın\n",
        "cv2.namedWindow(windowName, cv2.WINDOW_AUTOSIZE)\n",
        "\n",
        "scaled_img = img\n",
        "\n",
        "# Geri arama işlevleri\n",
        "def scaleImage(*args):\n",
        "    global scaled_img\n",
        "    # İzleme çubuğundan ölçek faktörünü alın\n",
        "    scaleFactor = 1+ args[0]/100.0\n",
        "    # Resmi yeniden boyutlandır\n",
        "    scaled_img = cv2.resize(img, None, fx=scaleFactor, fy = scaleFactor, interpolation = cv2.INTER_LINEAR)\n",
        "    cv2.imshow(windowName, scaled_img)\n",
        "\n",
        "# İzleme çubuğu oluşturun ve bir geri arama işlevini ilişkilendirin\n",
        "cv2.createTrackbar(trackbarValue, windowName, scaleFactor, maxScaleUp, scaleImage)\n",
        "\n",
        "# Resmi göster\n",
        "cv2.imshow(windowName, img)\n",
        "\n",
        "c = cv2.waitKey(0)\n",
        "cv2.destroyAllWindows()\n",
        "scaled_img_rgb = cv2.cvtColor(scaled_img, cv2.COLOR_BGR2RGB)\n",
        "plt.imshow(scaled_img_rgb)"
      ]
    },
    {
      "cell_type": "code",
      "execution_count": null,
      "id": "881f0da3-46a0-4f44-8a1a-14c02670efd0",
      "metadata": {
        "id": "881f0da3-46a0-4f44-8a1a-14c02670efd0"
      },
      "outputs": [],
      "source": []
    }
  ],
  "metadata": {
    "kernelspec": {
      "display_name": "Python 3",
      "language": "python",
      "name": "python3"
    },
    "language_info": {
      "codemirror_mode": {
        "name": "ipython",
        "version": 3
      },
      "file_extension": ".py",
      "mimetype": "text/x-python",
      "name": "python",
      "nbconvert_exporter": "python",
      "pygments_lexer": "ipython3",
      "version": "3.8.5"
    },
    "colab": {
      "provenance": []
    }
  },
  "nbformat": 4,
  "nbformat_minor": 5
}