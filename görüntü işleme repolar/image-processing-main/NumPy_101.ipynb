{
  "cells": [
    {
      "cell_type": "code",
      "execution_count": 1,
      "id": "5491d1d2",
      "metadata": {
        "id": "5491d1d2"
      },
      "outputs": [],
      "source": [
        "import numpy as np"
      ]
    },
    {
      "cell_type": "code",
      "execution_count": 2,
      "id": "f2a72106",
      "metadata": {
        "id": "f2a72106"
      },
      "outputs": [],
      "source": [
        "arr = np.array([1, 3, 6])"
      ]
    },
    {
      "cell_type": "code",
      "execution_count": 3,
      "id": "08ab8f47",
      "metadata": {
        "colab": {
          "base_uri": "https://localhost:8080/"
        },
        "id": "08ab8f47",
        "outputId": "e69f4eef-a7b6-490c-e25d-73230aa9131f"
      },
      "outputs": [
        {
          "output_type": "execute_result",
          "data": {
            "text/plain": [
              "array([0, 2, 4, 6, 8])"
            ]
          },
          "metadata": {},
          "execution_count": 3
        }
      ],
      "source": [
        "# numpy.arange([başlat, ]durdur, [adım, ]dtype=Yok, *, like=Yok)\n",
        "np.arange(0, 10, 2)"
      ]
    },
    {
      "cell_type": "code",
      "execution_count": 4,
      "id": "24372585",
      "metadata": {
        "colab": {
          "base_uri": "https://localhost:8080/"
        },
        "id": "24372585",
        "outputId": "3493fc1d-41d4-40f5-c776-bdf61f8b4ca9"
      },
      "outputs": [
        {
          "output_type": "execute_result",
          "data": {
            "text/plain": [
              "array([[0., 0., 0., 0., 0.],\n",
              "       [0., 0., 0., 0., 0.],\n",
              "       [0., 0., 0., 0., 0.],\n",
              "       [0., 0., 0., 0., 0.],\n",
              "       [0., 0., 0., 0., 0.],\n",
              "       [0., 0., 0., 0., 0.],\n",
              "       [0., 0., 0., 0., 0.],\n",
              "       [0., 0., 0., 0., 0.],\n",
              "       [0., 0., 0., 0., 0.],\n",
              "       [0., 0., 0., 0., 0.]])"
            ]
          },
          "metadata": {},
          "execution_count": 4
        }
      ],
      "source": [
        "# numpy.zeros(shape, dtype=float, order='C', *, like=Yok)\n",
        "np.zeros(shape=(10, 5))"
      ]
    },
    {
      "cell_type": "code",
      "execution_count": 5,
      "id": "d6b5700a",
      "metadata": {
        "colab": {
          "base_uri": "https://localhost:8080/"
        },
        "id": "d6b5700a",
        "outputId": "b1e40c7f-3de4-478d-f04e-356fc202c178"
      },
      "outputs": [
        {
          "output_type": "execute_result",
          "data": {
            "text/plain": [
              "array([[1., 1., 1., 1., 1.],\n",
              "       [1., 1., 1., 1., 1.],\n",
              "       [1., 1., 1., 1., 1.],\n",
              "       [1., 1., 1., 1., 1.],\n",
              "       [1., 1., 1., 1., 1.],\n",
              "       [1., 1., 1., 1., 1.],\n",
              "       [1., 1., 1., 1., 1.],\n",
              "       [1., 1., 1., 1., 1.],\n",
              "       [1., 1., 1., 1., 1.],\n",
              "       [1., 1., 1., 1., 1.]])"
            ]
          },
          "metadata": {},
          "execution_count": 5
        }
      ],
      "source": [
        "# numpy.ones(shape, dtype=Yok, sipariş='C', *, like=Yok)\n",
        "np.ones(shape=(10, 5))"
      ]
    },
    {
      "cell_type": "code",
      "execution_count": 6,
      "id": "fb6c408e",
      "metadata": {
        "colab": {
          "base_uri": "https://localhost:8080/"
        },
        "id": "fb6c408e",
        "outputId": "e00e7de3-e292-4945-e3f1-50f7d20c9685"
      },
      "outputs": [
        {
          "output_type": "execute_result",
          "data": {
            "text/plain": [
              "array([95, 11, 81, 70, 63, 87, 75,  9, 77, 40])"
            ]
          },
          "metadata": {},
          "execution_count": 6
        }
      ],
      "source": [
        "np.random.seed(101)\n",
        "# random.randint(düşük, yüksek=Yok, boyut=Yok, dtype=int)\n",
        "arr = np.random.randint(0, 100, 10)\n",
        "arr"
      ]
    },
    {
      "cell_type": "code",
      "execution_count": 7,
      "id": "f38200a8",
      "metadata": {
        "colab": {
          "base_uri": "https://localhost:8080/"
        },
        "id": "f38200a8",
        "outputId": "0d1dde1b-6b0b-4214-d5a4-2f15891078ce"
      },
      "outputs": [
        {
          "output_type": "execute_result",
          "data": {
            "text/plain": [
              "95"
            ]
          },
          "metadata": {},
          "execution_count": 7
        }
      ],
      "source": [
        "arr.max()"
      ]
    },
    {
      "cell_type": "code",
      "execution_count": 8,
      "id": "360f93d5",
      "metadata": {
        "colab": {
          "base_uri": "https://localhost:8080/"
        },
        "id": "360f93d5",
        "outputId": "e527ae99-0dbe-46ff-891a-605f151ada49"
      },
      "outputs": [
        {
          "output_type": "execute_result",
          "data": {
            "text/plain": [
              "0"
            ]
          },
          "metadata": {},
          "execution_count": 8
        }
      ],
      "source": [
        "# numpy.argmax(a, axis=Yok, out=Yok, *, keepdims=<değer yok>)\n",
        "# Bir eksen boyunca maksimum değerlerin indekslerini döndürür.\n",
        "arr.argmax()"
      ]
    },
    {
      "cell_type": "code",
      "execution_count": 9,
      "id": "86c76e01",
      "metadata": {
        "colab": {
          "base_uri": "https://localhost:8080/"
        },
        "id": "86c76e01",
        "outputId": "954f8bec-e54a-4585-8860-7f7bc93995b2"
      },
      "outputs": [
        {
          "output_type": "execute_result",
          "data": {
            "text/plain": [
              "7"
            ]
          },
          "metadata": {},
          "execution_count": 9
        }
      ],
      "source": [
        "arr.argmin()"
      ]
    },
    {
      "cell_type": "code",
      "execution_count": 10,
      "id": "18b12201",
      "metadata": {
        "colab": {
          "base_uri": "https://localhost:8080/"
        },
        "id": "18b12201",
        "outputId": "470646bd-a91f-4592-e1a9-f80f023dfc8c"
      },
      "outputs": [
        {
          "output_type": "execute_result",
          "data": {
            "text/plain": [
              "60.8"
            ]
          },
          "metadata": {},
          "execution_count": 10
        }
      ],
      "source": [
        "arr.mean()"
      ]
    },
    {
      "cell_type": "code",
      "execution_count": 11,
      "id": "83e744d3",
      "metadata": {
        "colab": {
          "base_uri": "https://localhost:8080/"
        },
        "id": "83e744d3",
        "outputId": "b59ac49f-d1d4-4278-d3e9-e51a2b84d40d"
      },
      "outputs": [
        {
          "output_type": "execute_result",
          "data": {
            "text/plain": [
              "array([[95, 11, 81, 70, 63],\n",
              "       [87, 75,  9, 77, 40]])"
            ]
          },
          "metadata": {},
          "execution_count": 11
        }
      ],
      "source": [
        "arr.reshape((2,5))"
      ]
    },
    {
      "cell_type": "code",
      "execution_count": 12,
      "id": "cc0564d1",
      "metadata": {
        "colab": {
          "base_uri": "https://localhost:8080/"
        },
        "id": "cc0564d1",
        "outputId": "a187c0f9-b362-4d51-8301-f96c127e97a6"
      },
      "outputs": [
        {
          "output_type": "execute_result",
          "data": {
            "text/plain": [
              "array([[10., 10., 10., 10., 10.],\n",
              "       [10., 10., 10., 10., 10.],\n",
              "       [10., 10., 10., 10., 10.],\n",
              "       [10., 10., 10., 10., 10.],\n",
              "       [10., 10., 10., 10., 10.]])"
            ]
          },
          "metadata": {},
          "execution_count": 12
        }
      ],
      "source": [
        "# np.linspace(10.0, 10.0, sayı=25).reshape((5,5))\n",
        "\n",
        "np.full(shape=(5,5), fill_value=10.0)"
      ]
    },
    {
      "cell_type": "code",
      "execution_count": 12,
      "id": "dbae0d04",
      "metadata": {
        "id": "dbae0d04"
      },
      "outputs": [],
      "source": []
    }
  ],
  "metadata": {
    "kernelspec": {
      "display_name": "Python 3",
      "language": "python",
      "name": "python3"
    },
    "language_info": {
      "codemirror_mode": {
        "name": "ipython",
        "version": 3
      },
      "file_extension": ".py",
      "mimetype": "text/x-python",
      "name": "python",
      "nbconvert_exporter": "python",
      "pygments_lexer": "ipython3",
      "version": "3.8.5"
    },
    "colab": {
      "provenance": []
    }
  },
  "nbformat": 4,
  "nbformat_minor": 5
}