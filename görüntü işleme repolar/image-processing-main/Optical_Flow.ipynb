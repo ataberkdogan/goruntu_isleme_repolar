{
  "cells": [
    {
      "cell_type": "code",
      "execution_count": null,
      "id": "664d7125",
      "metadata": {
        "id": "664d7125"
      },
      "outputs": [],
      "source": [
        "# https://docs.opencv.org/3.4/d4/dee/tutorial_optical_flow.html#:~:text=Dense%20Optical%20Flow%20in%20OpenCV&text=Lucas%2DKanade%20method%20computes%20optical,the%20points%20in%20the%20frame."
      ]
    },
    {
      "cell_type": "code",
      "execution_count": null,
      "id": "0400aac6",
      "metadata": {
        "id": "0400aac6"
      },
      "outputs": [],
      "source": [
        "import numpy as np\n",
        "import cv2"
      ]
    },
    {
      "cell_type": "markdown",
      "id": "6b1b5be0",
      "metadata": {
        "id": "6b1b5be0"
      },
      "source": [
        "## Lucas-Kanade Optik Akış"
      ]
    },
    {
      "cell_type": "code",
      "execution_count": null,
      "id": "75a187f0",
      "metadata": {
        "id": "75a187f0"
      },
      "outputs": [],
      "source": [
        "# ShiTomasi köşe tespiti için parametreler (kağıdı takip etmek için iyi özellikler)\n",
        "corner_track_params = dict(maxCorners = 10,\n",
        "                       qualityLevel = 0.3,\n",
        "                       minDistance = 7,\n",
        "                       blockSize = 7 )"
      ]
    },
    {
      "cell_type": "markdown",
      "id": "6ddd26e3",
      "metadata": {
        "id": "6ddd26e3"
      },
      "source": [
        "### Lucas Kanade Optik Akış Parametreleri\n",
        "\n",
        "winSize bağımsız değişkenini değiştirerek belirli noktaların hareketini veya bölgelerin toplu hareketini tespit edin. Bu, entegrasyon penceresi boyutunu belirler. Küçük pencereler gürültüye karşı daha duyarlıdır ve daha büyük hareketleri kaçırabilir. Büyük pencereler bir tıkanıklığa \"hayatta kalacaktır\".\n",
        "\n",
        "Daha büyük pencere boyutuyla entegrasyon daha düzgün görünür.\n",
        "\n",
        "burada iki kriter var - yinelemelerin maksimum sayısı (yukarıda 10) ve epsilon (yukarıda 0,03). Daha fazla yineleme, daha kapsamlı bir arama anlamına gelir ve daha küçük bir epsilon daha erken tamamlanır. Bunlar öncelikle hız ile doğruluğun değişiminde faydalıdır, ancak çoğunlukla aynı kalır.\n",
        "\n",
        "maxLevel 0 olduğunda piramit kullanmadan (yani calcOpticalFlowLK) aynı algoritma kullanılır. Piramitler, görüntünün çeşitli çözünürlüklerinde optik akışın bulunmasını sağlar."
      ]
    },
    {
      "cell_type": "code",
      "execution_count": null,
      "id": "1361cd94",
      "metadata": {
        "id": "1361cd94"
      },
      "outputs": [],
      "source": [
        "# Lucas kanade optik akışına ilişkin parametreler\n",
        "lk_params = dict( winSize  = (200,200),\n",
        "                  maxLevel = 2,\n",
        "                  criteria = (cv2.TERM_CRITERIA_EPS | cv2.TERM_CRITERIA_COUNT, 10,0.03))"
      ]
    },
    {
      "cell_type": "code",
      "execution_count": null,
      "id": "82c9613f",
      "metadata": {
        "scrolled": true,
        "id": "82c9613f",
        "outputId": "4e5c2c22-fe8f-4929-cc0b-9daf87d91ccc"
      },
      "outputs": [
        {
          "name": "stdout",
          "output_type": "stream",
          "text": [
            "[[[261.76736  316.87213 ]]\n",
            "\n",
            " [[279.76306  316.86926 ]]\n",
            "\n",
            " [[316.7345   282.8754  ]]\n",
            "\n",
            " [[261.75934  300.87622 ]]\n",
            "\n",
            " [[278.75504  299.87537 ]]\n",
            "\n",
            " [[ 40.993313 284.85007 ]]\n",
            "\n",
            " [[561.80896  397.00217 ]]\n",
            "\n",
            " [[ 15.39743  489.6405  ]]\n",
            "\n",
            " [[552.79865  397.0201  ]]]\n"
          ]
        },
        {
          "ename": "error",
          "evalue": "OpenCV(4.6.0) :-1: error: (-5:Bad argument) in function 'line'\n> Overload resolution failed:\n>  - Can't parse 'pt1'. Sequence item with index 0 has a wrong type\n>  - Can't parse 'pt1'. Sequence item with index 0 has a wrong type\n",
          "output_type": "error",
          "traceback": [
            "\u001b[1;31m---------------------------------------------------------------------------\u001b[0m",
            "\u001b[1;31merror\u001b[0m                                     Traceback (most recent call last)",
            "\u001b[1;32m<ipython-input-4-02726449564c>\u001b[0m in \u001b[0;36m<module>\u001b[1;34m\u001b[0m\n\u001b[0;32m     40\u001b[0m \u001b[1;33m\u001b[0m\u001b[0m\n\u001b[0;32m     41\u001b[0m         \u001b[1;31m# Lines will be drawn using the mask created from the first frame\u001b[0m\u001b[1;33m\u001b[0m\u001b[1;33m\u001b[0m\u001b[1;33m\u001b[0m\u001b[0m\n\u001b[1;32m---> 42\u001b[1;33m         \u001b[0mmask\u001b[0m \u001b[1;33m=\u001b[0m \u001b[0mcv2\u001b[0m\u001b[1;33m.\u001b[0m\u001b[0mline\u001b[0m\u001b[1;33m(\u001b[0m\u001b[0mmask\u001b[0m\u001b[1;33m,\u001b[0m \u001b[1;33m(\u001b[0m\u001b[0mx_new\u001b[0m\u001b[1;33m,\u001b[0m\u001b[0my_new\u001b[0m\u001b[1;33m)\u001b[0m\u001b[1;33m,\u001b[0m\u001b[1;33m(\u001b[0m\u001b[0mx_prev\u001b[0m\u001b[1;33m,\u001b[0m\u001b[0my_prev\u001b[0m\u001b[1;33m)\u001b[0m\u001b[1;33m,\u001b[0m \u001b[1;33m(\u001b[0m\u001b[1;36m0\u001b[0m\u001b[1;33m,\u001b[0m\u001b[1;36m255\u001b[0m\u001b[1;33m,\u001b[0m\u001b[1;36m0\u001b[0m\u001b[1;33m)\u001b[0m\u001b[1;33m,\u001b[0m \u001b[1;36m3\u001b[0m\u001b[1;33m)\u001b[0m\u001b[1;33m\u001b[0m\u001b[1;33m\u001b[0m\u001b[0m\n\u001b[0m\u001b[0;32m     43\u001b[0m \u001b[1;33m\u001b[0m\u001b[0m\n\u001b[0;32m     44\u001b[0m         \u001b[1;31m# Draw red circles at corner points\u001b[0m\u001b[1;33m\u001b[0m\u001b[1;33m\u001b[0m\u001b[1;33m\u001b[0m\u001b[0m\n",
            "\u001b[1;31merror\u001b[0m: OpenCV(4.6.0) :-1: error: (-5:Bad argument) in function 'line'\n> Overload resolution failed:\n>  - Can't parse 'pt1'. Sequence item with index 0 has a wrong type\n>  - Can't parse 'pt1'. Sequence item with index 0 has a wrong type\n"
          ]
        }
      ],
      "source": [
        "# Videoyu yakala\n",
        "cap = cv2.VideoCapture(0)\n",
        "\n",
        "# Akışın ilk karesini yakalayın\n",
        "ret, prev_frame = cap.read()\n",
        "\n",
        "# Gri tonlamalı bir görüntü yakalayın (Buna önceki kare olarak değineceğiz)\n",
        "prev_gray = cv2.cvtColor(prev_frame, cv2.COLOR_BGR2GRAY)\n",
        "\n",
        "# Köşeleri yakalamak\n",
        "prevPts = cv2.goodFeaturesToTrack(prev_gray, mask = None, **corner_track_params)\n",
        "\n",
        "# Daha sonra çizim yapmak için önceki karenin eşleşen maskesini oluşturun\n",
        "mask = np.zeros_like(prev_frame)\n",
        "\n",
        "\n",
        "while True:\n",
        "\n",
        "    # Geçerli kareyi yakala\n",
        "    ret,frame = cap.read()\n",
        "\n",
        "    # Gri tonlamayı yakala\n",
        "    frame_gray = cv2.cvtColor(frame, cv2.COLOR_BGR2GRAY)\n",
        "\n",
        "    # Gri Tonlamalı Çerçevede Optik Akışı Hesaplayın\n",
        "    nextPts, status, err = cv2.calcOpticalFlowPyrLK(prev_gray, frame_gray, prevPts, None, **lk_params)\n",
        "    print(nextPts)\n",
        "    # Döndürülen durum dizisini kullanma (durum çıkışı)\n",
        "    # durum çıktısı durum vektörü (imzasız karakterlerin); vektörün her elemanı 1'e ayarlanır, eğer\n",
        "    # karşılık gelen özelliklere ilişkin akış bulunmuştur, aksi takdirde 0'a ayarlanır.\n",
        "    good_new = nextPts[status==1]\n",
        "    good_prev = prevPts[status==1]\n",
        "\n",
        "    # Çizgiler ve daireler çizmek için puan almak için ravel'ı kullanın\n",
        "    for i,(new,prev) in enumerate(zip(good_new,good_prev)):\n",
        "\n",
        "        x_new,y_new = new.ravel()\n",
        "        x_prev,y_prev = prev.ravel()\n",
        "        (x_new,y_new),(x_prev,y_prev) = (int(x_new),int(y_new)),(int(x_prev),int(y_prev))# *****************\n",
        "\n",
        "        # İlk kareden oluşturulan maske kullanılarak çizgiler çizilecektir\n",
        "        mask = cv2.line(mask, (x_new,y_new),(x_prev,y_prev), (0,255,0), 3)\n",
        "\n",
        "        # Köşe noktalarına kırmızı daireler çizin\n",
        "        frame = cv2.circle(frame,(x_new,y_new),8,(0,0,255),-1)\n",
        "\n",
        "    # Resmi, üzerine çizgi çizdiğimiz maskeyle birlikte görüntüleyin.\n",
        "    img = cv2.add(frame,mask)\n",
        "    cv2.imshow('frame',img)\n",
        "\n",
        "    k = cv2.waitKey(30) & 0xff\n",
        "    if k == 27:\n",
        "        break\n",
        "\n",
        "    # Şimdi önceki kareyi ve önceki noktaları güncelleyin\n",
        "    prev_gray = frame_gray.copy()\n",
        "    prevPts = good_new.reshape(-1,1,2)\n",
        "\n",
        "\n",
        "cv2.destroyAllWindows()\n",
        "cap.release()"
      ]
    },
    {
      "cell_type": "markdown",
      "id": "cd76fe7d",
      "metadata": {
        "id": "cd76fe7d"
      },
      "source": [
        "# OpenCV'de Yoğun Optik Akış\n",
        "\n",
        "calcOpticalFlowFarneback(önceki, sonraki, akış, pyr_scale, düzeyler, kazanma boyutu, yinelemeler, poly_n, poly_sigma, bayraklar) -> akış\n",
        "\n",
        "Bu işlev, Gunnar Farneback'in algoritmasını kullanarak yoğun bir optik akışı hesaplar.\n",
        "\n",
        "İşte fonksiyonun parametreleri ve temsil ettikleri şeyler:"
      ]
    },
    {
      "cell_type": "markdown",
      "id": "8758ad96",
      "metadata": {
        "id": "8758ad96"
      },
      "source": [
        "* önceki ilk 8 bitlik tek kanallı giriş görüntüsü.\n",
        "* öncekiyle aynı boyutta ve aynı türde sonraki ikinci giriş görüntüsü.\n",
        "* öncekiyle aynı boyuta sahip ve CV_32FC2 türünde akış hesaplanmış akış görüntüsü.\n",
        "* pyr_scale parametresi, her görüntü için piramitler oluşturmak amacıyla görüntü ölçeğini (\\<1) belirtir\n",
        "    * pyr_scale=0,5, her bir sonraki katmanın bir öncekinden iki kat daha küçük olduğu klasik bir piramit anlamına gelir.\n",
        "    \n",
        "* İlk görüntüyü içeren piramit katmanlarının seviye sayısı; düzeyler=1, hiçbir ekstra katmanın oluşturulmadığı ve yalnızca orijinal görüntülerin kullanıldığı anlamına gelir.\n",
        "* winsize ortalama pencere boyutu\n",
        "    * daha büyük değerler görüntünün algoritma sağlamlığını artırır\n",
        "* gürültü ve hızlı hareket algılama için daha fazla şans verir, ancak daha fazla bulanık hareket alanı sağlar.\n",
        "* yinelemeler algoritmanın her piramit seviyesinde yaptığı yinelemelerin sayısı.\n",
        "* her pikseldeki polinom genişlemesini bulmak için kullanılan piksel komşuluğunun poly_n boyutu\n",
        "    * daha büyük değerler, görüntünün daha pürüzsüz yüzeylerle yaklaşılacağı anlamına gelir, bu da daha sağlam bir algoritma ve daha bulanık hareket alanı sağlar, genellikle poly_n =5 veya 7.\n",
        "* polinom açılımının temeli olarak kullanılan türevleri yumuşatmak için kullanılan Gaussian'ın poly_sigma standart sapması; poly_n=5 için poly_sigma=1.1'i ayarlayabilirsiniz; poly_n=7 için iyi bir değer poly_sigma=1.5 olacaktır."
      ]
    },
    {
      "cell_type": "code",
      "execution_count": null,
      "id": "665d7706",
      "metadata": {
        "id": "665d7706"
      },
      "outputs": [],
      "source": [
        "# Çerçeveyi yakalayın\n",
        "cap = cv2.VideoCapture(0)\n",
        "ret, frame1 = cap.read()\n",
        "\n",
        "# İlk karenin gri tonlamalı görüntüsünü alın ve HSV renginde bir maske yapın\n",
        "prvsImg = cv2.cvtColor(frame1,cv2.COLOR_BGR2GRAY)\n",
        "\n",
        "hsv_mask = np.zeros_like(frame1)\n",
        "hsv_mask[:,:,1] = 255\n",
        "\n",
        "while True:\n",
        "    ret, frame2 = cap.read()\n",
        "    nextImg = cv2.cvtColor(frame2,cv2.COLOR_BGR2GRAY)\n",
        "\n",
        "    # Bu parametrelerin dökümü için yukarıdaki işaretleme metnine göz atın; bunların çoğu yalnızca önerilen varsayılanlardır.\n",
        "    flow = cv2.calcOpticalFlowFarneback(prvsImg,nextImg, None, 0.5, 3, 15, 3, 5, 1.2, 0)\n",
        "\n",
        "\n",
        "    # Kanalları seyahat açısına göre renklendirin\n",
        "    # Videonuza çok dikkat edin; akış yönünün yolu rengi belirleyecektir!\n",
        "    mag, ang = cv2.cartToPolar(flow[:,:,0], flow[:,:,1],angleInDegrees=True) # akışı kutupsal koordinatlara dönüştür\n",
        "    hsv_mask[:,:,0] = ang/2\n",
        "    hsv_mask[:,:,2] = cv2.normalize(mag,None,0,255,cv2.NORM_MINMAX)\n",
        "\n",
        "    # CV'den imshow ile göstermek için BGR'ye geri dönüştürün\n",
        "    bgr = cv2.cvtColor(hsv_mask,cv2.COLOR_HSV2BGR)\n",
        "    cv2.imshow('frame2',bgr)\n",
        "\n",
        "    k = cv2.waitKey(30) & 0xff\n",
        "    if k == 27:\n",
        "        break\n",
        "\n",
        "    # Önceki görüntüyü döngünün sonraki görüntüsü olarak ayarlayın\n",
        "    prvsImg = nextImg\n",
        "\n",
        "\n",
        "cap.release()\n",
        "cv2.destroyAllWindows()"
      ]
    },
    {
      "cell_type": "code",
      "execution_count": null,
      "id": "e7afda2e",
      "metadata": {
        "id": "e7afda2e",
        "outputId": "a90ea9bc-09d1-4ff6-d619-d3dd9c35f897"
      },
      "outputs": [
        {
          "data": {
            "text/plain": [
              "<function cartToPolar>"
            ]
          },
          "execution_count": 4,
          "metadata": {},
          "output_type": "execute_result"
        }
      ],
      "source": [
        "cv2.cartToPolar"
      ]
    },
    {
      "cell_type": "code",
      "execution_count": null,
      "id": "ccd2e6d6",
      "metadata": {
        "id": "ccd2e6d6"
      },
      "outputs": [],
      "source": []
    }
  ],
  "metadata": {
    "kernelspec": {
      "display_name": "Python 3",
      "language": "python",
      "name": "python3"
    },
    "language_info": {
      "codemirror_mode": {
        "name": "ipython",
        "version": 3
      },
      "file_extension": ".py",
      "mimetype": "text/x-python",
      "name": "python",
      "nbconvert_exporter": "python",
      "pygments_lexer": "ipython3",
      "version": "3.8.5"
    },
    "colab": {
      "provenance": []
    }
  },
  "nbformat": 4,
  "nbformat_minor": 5
}