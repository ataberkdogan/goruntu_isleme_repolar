{
  "cells": [
    {
      "cell_type": "markdown",
      "id": "2b6b3440",
      "metadata": {
        "id": "2b6b3440"
      },
      "source": [
        "## İzleme API'leri"
      ]
    },
    {
      "cell_type": "code",
      "execution_count": null,
      "id": "89fd6060",
      "metadata": {
        "id": "89fd6060"
      },
      "outputs": [],
      "source": [
        "import cv2"
      ]
    },
    {
      "cell_type": "code",
      "execution_count": null,
      "id": "d41d65be",
      "metadata": {
        "id": "d41d65be"
      },
      "outputs": [],
      "source": [
        "def ask_for_tracker():\n",
        "    print(\"Hoş geldin! Hangi Takipçi API'sini kullanmak istersiniz?\")\n",
        "    print(\"HIZLANDIRMA için 0 girin: \")\n",
        "    print(\"MIL için 1 girin: \")\n",
        "    print(\"KCF için 2 girin: \")\n",
        "    print(\"TLD için 3 girin: \")\n",
        "    print(\"MEDIANFLOW için 4 girin: \")\n",
        "    choice = input(\"Lütfen takipçinizi seçin: \")\n",
        "\n",
        "    if choice == '0':\n",
        "        tracker = cv2.TrackerBoosting_create()\n",
        "    if choice == '1':\n",
        "        tracker = cv2.TrackerMIL_create()\n",
        "    if choice == '2':\n",
        "        tracker = cv2.TrackerKCF_create()\n",
        "    if choice == '3':\n",
        "        tracker = cv2.TrackerTLD_create()\n",
        "    if choice == '4':\n",
        "        tracker = cv2.TrackerMedianFlow_create()\n",
        "\n",
        "\n",
        "    return tracker\n",
        ""
      ]
    },
    {
      "cell_type": "code",
      "execution_count": null,
      "id": "1909631b",
      "metadata": {
        "id": "1909631b"
      },
      "outputs": [],
      "source": [
        "tracker = ask_for_tracker()"
      ]
    },
    {
      "cell_type": "code",
      "execution_count": null,
      "id": "6c954c78",
      "metadata": {
        "id": "6c954c78"
      },
      "outputs": [],
      "source": [
        "tracker = ask_for_tracker()\n",
        "tracker_name = str(tracker).split()[0][1:]\n",
        "\n",
        "# Videoyu oku\n",
        "cap = cv2.VideoCapture(0)\n",
        "\n",
        "# İlk kareyi okuyun.\n",
        "ret, frame = cap.read()\n",
        "\n",
        "\n",
        "# Özel işlev, ilk karede istediğimiz yatırım getirisini çizmemize olanak tanır\n",
        "roi = cv2.selectROI(frame, False)\n",
        "\n",
        "# İzleyiciyi ilk çerçeve ve sınırlayıcı kutuyla başlat\n",
        "ret = tracker.init(frame, roi)\n",
        "\n",
        "while True:\n",
        "    # Yeni bir çerçeve okuyun\n",
        "    ret, frame = cap.read()\n",
        "\n",
        "\n",
        "    # İzleyiciyi güncelle\n",
        "    success, roi = tracker.update(frame)\n",
        "\n",
        "    # roi değişkeni 4 kayan noktalı bir demettir\n",
        "    # Her değere ihtiyacımız var ve onlara tamsayılar olarak ihtiyacımız var\n",
        "    (x,y,w,h) = tuple(map(int,roi))\n",
        "\n",
        "    # İzleyici hareket ettikçe Dikdörtgen Çiz\n",
        "    if success:\n",
        "        # Başarıyı takip etmek\n",
        "        p1 = (x, y)\n",
        "        p2 = (x+w, y+h)\n",
        "        cv2.rectangle(frame, p1, p2, (0,255,0), 3)\n",
        "    else :\n",
        "        # İzleme hatası\n",
        "        cv2.putText(frame, \"Failure to Detect Tracking!!\", (100,200), cv2.FONT_HERSHEY_SIMPLEX, 1,(0,0,255),3)\n",
        "\n",
        "    # Takipçi tipini karede göster\n",
        "    cv2.putText(frame, tracker_name, (20,400), cv2.FONT_HERSHEY_SIMPLEX, 1, (0,255,0),3);\n",
        "\n",
        "    # Sonucu göster\n",
        "    cv2.imshow(tracker_name, frame)\n",
        "\n",
        "    # ESC tuşuna basıldığında çık\n",
        "    k = cv2.waitKey(1) & 0xff\n",
        "    if k == 27 :\n",
        "        break\n",
        "\n",
        "cap.release()\n",
        "cv2.destroyAllWindows()"
      ]
    }
  ],
  "metadata": {
    "kernelspec": {
      "display_name": "Python 3",
      "language": "python",
      "name": "python3"
    },
    "language_info": {
      "codemirror_mode": {
        "name": "ipython",
        "version": 3
      },
      "file_extension": ".py",
      "mimetype": "text/x-python",
      "name": "python",
      "nbconvert_exporter": "python",
      "pygments_lexer": "ipython3",
      "version": "3.8.5"
    },
    "colab": {
      "provenance": []
    }
  },
  "nbformat": 4,
  "nbformat_minor": 5
}