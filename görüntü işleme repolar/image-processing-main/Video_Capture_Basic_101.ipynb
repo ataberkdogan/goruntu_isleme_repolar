{
  "cells": [
    {
      "cell_type": "markdown",
      "id": "e374b74c",
      "metadata": {
        "id": "e374b74c"
      },
      "source": [
        "## OpenCV kullanarak Video Okuma, Yazma ve Görüntüleme"
      ]
    },
    {
      "cell_type": "code",
      "execution_count": null,
      "id": "6fe2627d",
      "metadata": {
        "id": "6fe2627d"
      },
      "outputs": [],
      "source": [
        "import cv2"
      ]
    },
    {
      "cell_type": "code",
      "execution_count": null,
      "id": "fad000e4",
      "metadata": {
        "id": "fad000e4"
      },
      "outputs": [],
      "source": [
        "cap = cv2.VideoCapture(0)\n",
        "\n",
        "width = int(cap.get(cv2.CAP_PROP_FRAME_WIDTH))\n",
        "height = int(cap.get(cv2.CAP_PROP_FRAME_HEIGHT))\n",
        "\n",
        "writer = cv2.VideoWriter('videos/save.mp4', cv2.VideoWriter_fourcc(*'DIVX'), 20, (width, height) )\n",
        "\n",
        "\n",
        "\n",
        "while True:\n",
        "    ret, frame= cap.read()\n",
        "#     gray = cv2.cvtColor(frame, cv2.COLOR_BGR2GRAY)\n",
        "    # OPERATIONS\n",
        "    writer.write(frame)\n",
        "\n",
        "    cv2.imshow(\"frame\", frame)\n",
        "\n",
        "\n",
        "    if cv2.waitKey(1) & 0xFF == ord('q'):\n",
        "        break\n",
        "cap.release()\n",
        "cv2.destroyAllWindows()"
      ]
    },
    {
      "cell_type": "markdown",
      "id": "5d06ebc1",
      "metadata": {
        "id": "5d06ebc1"
      },
      "source": [
        "## Video Görüntüleniyor"
      ]
    },
    {
      "cell_type": "code",
      "execution_count": null,
      "id": "92e83028",
      "metadata": {
        "id": "92e83028",
        "outputId": "ea65803a-36a9-46fc-c809-15591a9614d5"
      },
      "outputs": [
        {
          "name": "stdout",
          "output_type": "stream",
          "text": [
            "error file not found or wrong codec used\n"
          ]
        }
      ],
      "source": [
        "cap = cv2.VideoCapture('videos/save.mp4')\n",
        "\n",
        "if cap.isOpened() == False:\n",
        "    print('hata dosyası bulunamadı veya yanlış codec kullanıldı')\n",
        "\n",
        "while cap.isOpened():\n",
        "    ret, frame = cap.read()\n",
        "    if ret == True:\n",
        "        ## writer 20 fps\n",
        "        time.sleeep(1/20)\n",
        "        cv2.imshow(\"frame\", frame)\n",
        "\n",
        "\n",
        "        if cv2.waitKey(1) & 0xFF == ord('q'):\n",
        "            break\n",
        "    else:\n",
        "        break\n",
        "cap.release()\n",
        "cv2.destroyAllWindows()"
      ]
    },
    {
      "cell_type": "code",
      "execution_count": null,
      "id": "77ca1f3f",
      "metadata": {
        "id": "77ca1f3f"
      },
      "outputs": [],
      "source": [
        "cap = cv2.VideoCapture(0)\n",
        "\n",
        "width = int(cap.get(cv2.CAP_PROP_FRAME_WIDTH))\n",
        "height = int(cap.get(cv2.CAP_PROP_FRAME_HEIGHT))\n",
        "\n",
        "x = width//2\n",
        "y = height//2\n",
        "w = width//4\n",
        "h = height//4\n",
        "while True:\n",
        "    ret, frame= cap.read()\n",
        "\n",
        "    cv2.rectangle(frame,(x,y),(x+w, y+h), color=(0, 0, 255), thickness =4)\n",
        "\n",
        "    cv2.imshow(\"frame\", frame)\n",
        "\n",
        "    if cv2.waitKey(1) & 0xFF == ord('q'):\n",
        "        break\n",
        "cap.release()\n",
        "cv2.destroyAllWindows()\n",
        ""
      ]
    },
    {
      "cell_type": "code",
      "execution_count": null,
      "id": "3c2a6957",
      "metadata": {
        "id": "3c2a6957"
      },
      "outputs": [],
      "source": [
        "\n",
        "def draw_rectangle(event, x,y, flags, param):\n",
        "    global pt1, pt2, topLeft_click, botRight_click\n",
        "\n",
        "    if event == cv2.EVENT_LBUTTONDOWN:\n",
        "\n",
        "        # reset the rectangle\n",
        "        if topLeft_click == True and botRight_click == True:\n",
        "            pt1 = (0,0)\n",
        "            pt2 = (0,0)\n",
        "            topLeft_click = False\n",
        "            botRight_click = False\n",
        "        if topLeft_click == False:\n",
        "            pt1 = (x,y)\n",
        "            topLeft_click = True\n",
        "        elif botRight_click == False:\n",
        "            pt2 = (x,y)\n",
        "            botRight_click = True\n",
        "\n",
        "# küresel değişken\n",
        "pt1 = (0,0)\n",
        "pt2 = (0,0)\n",
        "topLeft_click = False\n",
        "botRight_click = False\n",
        "cap = cv2.VideoCapture(0)\n",
        "\n",
        "cv2.namedWindow('Test')\n",
        "cv2.setMouseCallback('Test', draw_rectangle)\n",
        "\n",
        "while True:\n",
        "    ret, frame= cap.read()\n",
        "\n",
        "    if topLeft_click:\n",
        "        cv2.circle(frame, center=pt1, radius=5, color=(0,0,255), thickness=-1)\n",
        "    if topLeft_click and botRight_click:\n",
        "        cv2.rectangle(frame,pt1, pt2, color=(0, 0, 255), thickness =3)\n",
        "\n",
        "\n",
        "    cv2.imshow(\"Test\", frame)\n",
        "\n",
        "    if cv2.waitKey(1) & 0xFF == ord('q'):\n",
        "        break\n",
        "cap.release()\n",
        "cv2.destroyAllWindows()"
      ]
    },
    {
      "cell_type": "code",
      "execution_count": null,
      "id": "6c58411b",
      "metadata": {
        "id": "6c58411b"
      },
      "outputs": [],
      "source": []
    }
  ],
  "metadata": {
    "kernelspec": {
      "display_name": "Python 3",
      "language": "python",
      "name": "python3"
    },
    "language_info": {
      "codemirror_mode": {
        "name": "ipython",
        "version": 3
      },
      "file_extension": ".py",
      "mimetype": "text/x-python",
      "name": "python",
      "nbconvert_exporter": "python",
      "pygments_lexer": "ipython3",
      "version": "3.8.5"
    },
    "colab": {
      "provenance": []
    }
  },
  "nbformat": 4,
  "nbformat_minor": 5
}