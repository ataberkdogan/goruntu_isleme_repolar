{
  "cells": [
    {
      "cell_type": "markdown",
      "metadata": {
        "id": "VqXPjtOEdL1M"
      },
      "source": [
        "## 01 - Görüntü İşlemenin Temelleri\n",
        "(Moacir A. Ponti, ICMC/USP, 2021)\n",
        "\n",
        "Kurs süresince görselleri yüklemek, kaydetmek, göstermek ve işlemek için Python 3 ve bazı temel kütüphaneleri kullanacağız. Bu not defterinde bazı Python temel bilgilerinin yanı sıra aşağıdaki kütüphaneler de gösterilmektedir:\n",
        "\n",
        "'numpy' sayısal matematik kütüphanesi, çok boyutlu dizilerle çalışmaya izin verir, vektör ve matris için optimize edilmiş operatörler içerir\n",
        "\n",
        "'imageio' görüntüler için bir giriş/çıkış kitaplığıdır\n",
        "\n",
        "'matplotlib' görüntüler ve grafikler için bir çizim kütüphanesidir"
      ]
    },
    {
      "cell_type": "code",
      "execution_count": 28,
      "metadata": {
        "id": "ORT37vHzdL1N"
      },
      "outputs": [],
      "source": [
        "import numpy as np\n",
        "import imageio\n",
        "import matplotlib.pyplot as plt"
      ]
    },
    {
      "cell_type": "markdown",
      "metadata": {
        "id": "lxq5HJRYdL1N"
      },
      "source": [
        "OBS: 'as' kullanıldığında, kütüphaneye daha kısa bir tanımlayıcı kullanarak erişime izin vermek için bir takma ad oluşturulur. Örneğin, 'numpy'ye 'np' yoluyla erişilebilir.\n",
        "\n",
        "Kullanabileceğimiz 10 öğeli sıfır değerli bir `A' dizisi oluşturalım:"
      ]
    },
    {
      "cell_type": "code",
      "execution_count": 29,
      "metadata": {
        "id": "LAA6efvPdL1N"
      },
      "outputs": [],
      "source": [
        "A = np.zeros(10)"
      ]
    },
    {
      "cell_type": "code",
      "execution_count": 30,
      "metadata": {
        "colab": {
          "base_uri": "https://localhost:8080/"
        },
        "id": "H6XCt_rQdL1O",
        "outputId": "3f32b8e0-3669-404c-a4ff-f5c08bd36ef0"
      },
      "outputs": [
        {
          "output_type": "stream",
          "name": "stdout",
          "text": [
            "[0. 0. 0. 0. 0. 0. 0. 0. 0. 0.]\n"
          ]
        }
      ],
      "source": [
        "print(A)"
      ]
    },
    {
      "cell_type": "markdown",
      "metadata": {
        "id": "8sXw828OdL1O"
      },
      "source": [
        "Bu diziyi indeksleyebilir ve üzerine değerler yazabiliriz veya yineleyebiliriz."
      ]
    },
    {
      "cell_type": "code",
      "execution_count": 31,
      "metadata": {
        "id": "rp2gDambdL1O"
      },
      "outputs": [],
      "source": [
        "A[0] = 3"
      ]
    },
    {
      "cell_type": "code",
      "execution_count": 32,
      "metadata": {
        "id": "ZCXcbHE8dL1O"
      },
      "outputs": [],
      "source": [
        "A[5] = 1"
      ]
    },
    {
      "cell_type": "code",
      "execution_count": 33,
      "metadata": {
        "colab": {
          "base_uri": "https://localhost:8080/"
        },
        "id": "F6-0kxjkdL1O",
        "outputId": "588082bc-74fe-4a61-b3ed-7169b3299389"
      },
      "outputs": [
        {
          "output_type": "stream",
          "name": "stdout",
          "text": [
            "[3. 0. 0. 0. 0. 1. 0. 0. 0. 0.]\n"
          ]
        }
      ],
      "source": [
        "print(A)"
      ]
    },
    {
      "cell_type": "markdown",
      "metadata": {
        "id": "3SJ1yJNOdL1O"
      },
      "source": [
        "Bunu yinelemek için 'for' ifadesini kullanabiliriz"
      ]
    },
    {
      "cell_type": "code",
      "execution_count": 34,
      "metadata": {
        "colab": {
          "base_uri": "https://localhost:8080/"
        },
        "id": "vretiUurdL1O",
        "outputId": "3fdc4b72-4358-40b7-ceed-ca86726d761a"
      },
      "outputs": [
        {
          "output_type": "stream",
          "name": "stdout",
          "text": [
            "3.0\n",
            "0.0\n",
            "0.0\n",
            "0.0\n",
            "0.0\n",
            "1.0\n",
            "0.0\n",
            "0.0\n",
            "0.0\n",
            "0.0\n"
          ]
        }
      ],
      "source": [
        "for element in A:\n",
        "    print(element)"
      ]
    },
    {
      "cell_type": "markdown",
      "metadata": {
        "id": "IDKVLDzndL1O"
      },
      "source": [
        "`:` operatörünü kullanarak dizileri dilimlemek ve değerleri tanımlamak da mümkündür.\n",
        "Örneğin 4. konumdan önceki yani 0'dan 3'e kadar tüm dizi elemanlarına 6 sayısını atayalım:"
      ]
    },
    {
      "cell_type": "code",
      "execution_count": 35,
      "metadata": {
        "colab": {
          "base_uri": "https://localhost:8080/"
        },
        "id": "OFO4ArlIdL1O",
        "outputId": "11328092-dda0-445d-ed9d-c656dee2b530"
      },
      "outputs": [
        {
          "output_type": "stream",
          "name": "stdout",
          "text": [
            "[6. 6. 6. 6. 0. 1. 0. 0. 0. 0.]\n"
          ]
        }
      ],
      "source": [
        "A[:4] = 6\n",
        "print(A)"
      ]
    },
    {
      "cell_type": "markdown",
      "metadata": {
        "id": "J0G9fQOcdL1P"
      },
      "source": [
        "Görüntüler diziler gibi ele alınabilir ancak bundan önce onları dizilere yüklememiz gerekiyor!"
      ]
    },
    {
      "cell_type": "markdown",
      "metadata": {
        "id": "nBWWcUxsdL1P"
      },
      "source": [
        "Klavyeden girdi yakalamak için 'input()' işlevi kullanılabilir. Girişi aldıktan sonra, değeri String, Integer vb. gibi istenen türe dönüştürmek iyidir. Aşağıda iki görüntü dosya adı klavyeden okunur ve değerler dizelere dönüştürülür.\n",
        "\n",
        "Daha sonra bu tür dosyaları diskten okumak ve belleğe yüklemek için `imageio` kütüphanesi kullanılır.\n"
      ]
    },
    {
      "cell_type": "code",
      "execution_count": 36,
      "metadata": {
        "colab": {
          "base_uri": "https://localhost:8080/"
        },
        "id": "tB1lFoq0dL1P",
        "outputId": "70a9c152-c690-4626-e431-bbc474e258e0"
      },
      "outputs": [
        {
          "name": "stdout",
          "output_type": "stream",
          "text": [
            "/content/num1.png\n",
            "/content/num2.png\n"
          ]
        },
        {
          "output_type": "stream",
          "name": "stderr",
          "text": [
            "<ipython-input-36-9b98abf64e16>:5: DeprecationWarning: Starting with ImageIO v3 the behavior of this function will switch to that of iio.v3.imread. To keep the current behavior (and make this warning disappear) use `import imageio.v2 as imageio` or call `imageio.v2.imread` directly.\n",
            "  img1 = imageio.imread(filename1) #/content/num1.png\n",
            "<ipython-input-36-9b98abf64e16>:6: DeprecationWarning: Starting with ImageIO v3 the behavior of this function will switch to that of iio.v3.imread. To keep the current behavior (and make this warning disappear) use `import imageio.v2 as imageio` or call `imageio.v2.imread` directly.\n",
            "  img2 = imageio.imread(filename2) #/content/num2.png\n"
          ]
        }
      ],
      "source": [
        "filename1 = str(input())\n",
        "filename2 = str(input())\n",
        "\n",
        "# reading image files\n",
        "img1 = imageio.imread(filename1) #/content/num1.png\n",
        "img2 = imageio.imread(filename2) #/content/num2.png"
      ]
    },
    {
      "cell_type": "markdown",
      "metadata": {
        "id": "QpGeneTEdL1P"
      },
      "source": [
        "'img1' ve 'img2' nesneleri, 'shape' özelliği kullanılarak kontrol edilebilen, belirli bir şekle (boyutlara) sahip dizilerdir."
      ]
    },
    {
      "cell_type": "code",
      "execution_count": 37,
      "metadata": {
        "colab": {
          "base_uri": "https://localhost:8080/"
        },
        "id": "hEpHLaUhdL1P",
        "outputId": "12510e19-9c9f-49bb-f538-b8005c721d9c"
      },
      "outputs": [
        {
          "output_type": "stream",
          "name": "stdout",
          "text": [
            "<class 'numpy.ndarray'>\n",
            "(250, 250, 3)\n",
            "(250, 250, 3)\n"
          ]
        }
      ],
      "source": [
        "print(type(img1))\n",
        "print(img1.shape)\n",
        "print(img2.shape)\n"
      ]
    },
    {
      "cell_type": "markdown",
      "metadata": {
        "id": "5l-jcObHdL1P"
      },
      "source": [
        "Bu tür görüntüleri işleyebilmek için görüntünün boyutlarını bilmek esastır.\n",
        "\n",
        "Şimdi 'matplotlib' kütüphanesini kullanarak giriş görsellerini gösterelim.\n",
        "Gri tonlamalı görselleri gösterebilmek için renk haritasını “gri” olarak tanımlıyoruz. Aksi halde ona yanlış renkler atayacaktır."
      ]
    },
    {
      "cell_type": "code",
      "execution_count": 38,
      "metadata": {
        "colab": {
          "base_uri": "https://localhost:8080/",
          "height": 452
        },
        "id": "juPysr9PdL1P",
        "outputId": "a95bcd9c-6754-4398-b8cb-d1b3e1a17920"
      },
      "outputs": [
        {
          "output_type": "execute_result",
          "data": {
            "text/plain": [
              "<matplotlib.image.AxesImage at 0x7edfc0fe8af0>"
            ]
          },
          "metadata": {},
          "execution_count": 38
        },
        {
          "output_type": "display_data",
          "data": {
            "text/plain": [
              "<Figure size 640x480 with 1 Axes>"
            ],
            "image/png": "[encoded data removed]"
          },
          "metadata": {}
        }
      ],
      "source": [
        "plt.imshow(img1, cmap=\"gray\")"
      ]
    },
    {
      "cell_type": "code",
      "execution_count": 39,
      "metadata": {
        "colab": {
          "base_uri": "https://localhost:8080/",
          "height": 452
        },
        "id": "LkVzP7akdL1P",
        "outputId": "87fa15ed-eb7a-4eb4-bf70-c835d03ce800"
      },
      "outputs": [
        {
          "output_type": "execute_result",
          "data": {
            "text/plain": [
              "<matplotlib.image.AxesImage at 0x7edfd01acf70>"
            ]
          },
          "metadata": {},
          "execution_count": 39
        },
        {
          "output_type": "display_data",
          "data": {
            "text/plain": [
              "<Figure size 640x480 with 1 Axes>"
            ],
            "image/png": "[encoded data removed]"
          },
          "metadata": {}
        }
      ],
      "source": [
        "plt.imshow(img2, cmap=\"gray\")"
      ]
    },
    {
      "cell_type": "markdown",
      "metadata": {
        "id": "pcoYMcBTdL1P"
      },
      "source": [
        "Bu örnekte hangi hücrelerde farklı sayıların olduğunu bulmak için iki görüntü arasındaki farkları tespit edeceğiz.\n",
        "\n",
        "Bunu yapmanın en basit (ancak en hızlı olmayan) yolu, iki döngü kullanarak tüm pikselleri açıkça gözden geçirmek ve her piksel çiftini çıkarmaktır.\n",
        "\n",
        "Çıkarma işleminin sonucu sıfırlarla başlayan yeni bir matriste saklanır. Görüntülerin piksel piksel çıkarılmasına izin vermek için her ikisinin de aynı boyutlara sahip olduğundan emin olmamız gerektiğini unutmayın."
      ]
    },
    {
      "cell_type": "code",
      "execution_count": 40,
      "metadata": {
        "id": "KFsPAT0qdL1P"
      },
      "outputs": [],
      "source": [
        "size1 = img1.shape\n",
        "size2 = img2.shape\n",
        "assert size1 == size2"
      ]
    },
    {
      "cell_type": "code",
      "execution_count": 41,
      "metadata": {
        "id": "y7aR45FAdL1Q"
      },
      "outputs": [],
      "source": [
        "img_sub = np.zeros(size1, dtype=float)\n",
        "\n",
        "for x in range(size1[0]):\n",
        "    for y in range(size1[1]):\n",
        "       img_sub = img1.astype(float) - img2.astype(float)   #img_sub[x,y] = float(img1[x,y]) - float(img2[x,y])\n"
      ]
    },
    {
      "cell_type": "markdown",
      "metadata": {
        "id": "BtKGu4zSdL1Q"
      },
      "source": [
        "Ortaya çıkan görüntü 'matplotlib' ile gösterilebilir.\n",
        "\n",
        "Ayrıca hangi değerlerin farklı gri düzeylerle eşlendiğini incelememiz için renk çubuğunu (sağ tarafta görüntülenen) göstereceğim."
      ]
    },
    {
      "cell_type": "code",
      "execution_count": 42,
      "metadata": {
        "colab": {
          "base_uri": "https://localhost:8080/",
          "height": 470
        },
        "id": "CeEJkDIrdL1Q",
        "outputId": "05de09fc-797b-40bb-aa5c-08e96a088fd7"
      },
      "outputs": [
        {
          "output_type": "stream",
          "name": "stderr",
          "text": [
            "WARNING:matplotlib.image:Clipping input data to the valid range for imshow with RGB data ([0..1] for floats or [0..255] for integers).\n"
          ]
        },
        {
          "output_type": "execute_result",
          "data": {
            "text/plain": [
              "<matplotlib.colorbar.Colorbar at 0x7edfc0e1bc70>"
            ]
          },
          "metadata": {},
          "execution_count": 42
        },
        {
          "output_type": "display_data",
          "data": {
            "text/plain": [
              "<Figure size 640x480 with 2 Axes>"
            ],
            "image/png": "[encoded data removed]"
          },
          "metadata": {}
        }
      ],
      "source": [
        "plt.imshow(img_sub, cmap=\"gray\")\n",
        "plt.colorbar()"
      ]
    },
    {
      "cell_type": "markdown",
      "metadata": {
        "id": "SpJGm6HsdL1Q"
      },
      "source": [
        "Değer aralığının negatiften pozitif değerlere doğru gittiğini unutmayın. Bu değerlerin tam olarak hangileri olduğunu kontrol edelim"
      ]
    },
    {
      "cell_type": "code",
      "execution_count": 43,
      "metadata": {
        "colab": {
          "base_uri": "https://localhost:8080/"
        },
        "id": "EdGgpttsdL1Q",
        "outputId": "ed1156d9-02f2-4381-9fa1-a3fbf29156c6"
      },
      "outputs": [
        {
          "output_type": "stream",
          "name": "stdout",
          "text": [
            "Min value -255.0\n",
            "Max value 255.0\n"
          ]
        }
      ],
      "source": [
        "print(\"Min value\", np.min(img_sub))\n",
        "print(\"Max value\", np.max(img_sub))"
      ]
    },
    {
      "cell_type": "markdown",
      "metadata": {
        "id": "NdxHZ7aMdL1Q"
      },
      "source": [
        "Her pikseli 8 bit kullanarak temsil etmek istediğimiz için bu iyi değil. Görüntünün doğru şekilde saklanmasına ve görüntülenmesine izin vermek için görüntüyü [0,255] aralığına normalleştirmemiz gerekir.\n",
        "\n",
        "Ancak şimdi döngü kullanmak yerine Python'un matrislerin doğrudan aritmetik operatörler kullanılarak işlenmesine izin verdiğini göstereceğim:"
      ]
    },
    {
      "cell_type": "code",
      "execution_count": 44,
      "metadata": {
        "colab": {
          "base_uri": "https://localhost:8080/",
          "height": 452
        },
        "id": "qnL1hSJYdL1Q",
        "outputId": "3434dd55-cae8-46e7-99f0-00587833f7c6"
      },
      "outputs": [
        {
          "output_type": "execute_result",
          "data": {
            "text/plain": [
              "<matplotlib.colorbar.Colorbar at 0x7edfc0d0e4a0>"
            ]
          },
          "metadata": {},
          "execution_count": 44
        },
        {
          "output_type": "display_data",
          "data": {
            "text/plain": [
              "<Figure size 640x480 with 2 Axes>"
            ],
            "image/png": "[encoded data removed]"
          },
          "metadata": {}
        }
      ],
      "source": [
        "# maksimum ve minimum değerleri al\n",
        "imax = np.max(img_sub)\n",
        "imin = np.min(img_sub)\n",
        "\n",
        "# minimum 0 ve maksimum 1 olacak şekilde görüntüyü normalleştirin\n",
        "img_sub_norm = (img_sub-imin)/(imax-imin)\n",
        "\n",
        "plt.imshow(img_sub_norm, cmap=\"gray\")\n",
        "plt.colorbar()"
      ]
    },
    {
      "cell_type": "markdown",
      "metadata": {
        "id": "LdhgtGbVdL1Q"
      },
      "source": [
        "Renk çubuğunun değiştiğini unutmayın. Artık görüntünün tamamını 255 ile çarpabilir ve ardından 8 bitlik bir gösterime dönüştürebiliriz (8 bitlik işaretsiz int)"
      ]
    },
    {
      "cell_type": "code",
      "execution_count": 45,
      "metadata": {
        "colab": {
          "base_uri": "https://localhost:8080/",
          "height": 452
        },
        "id": "oWDhEkVldL1Q",
        "outputId": "83d03763-dacf-48db-d7c6-45c4e2ab27e3"
      },
      "outputs": [
        {
          "output_type": "execute_result",
          "data": {
            "text/plain": [
              "<matplotlib.colorbar.Colorbar at 0x7edfc0bafe80>"
            ]
          },
          "metadata": {},
          "execution_count": 45
        },
        {
          "output_type": "display_data",
          "data": {
            "text/plain": [
              "<Figure size 640x480 with 2 Axes>"
            ],
            "image/png": "[encoded data removed]"
          },
          "metadata": {}
        }
      ],
      "source": [
        "img_sub_norm = (img_sub_norm*255).astype(np.uint8)\n",
        "\n",
        "plt.imshow(img_sub_norm, cmap=\"gray\")\n",
        "plt.colorbar()"
      ]
    },
    {
      "cell_type": "markdown",
      "metadata": {
        "id": "geKIRuFKdL1Q"
      },
      "source": [
        "Son olarak `imageio` kütüphanesini kullanarak imajı diske yazıyoruz:"
      ]
    },
    {
      "cell_type": "code",
      "execution_count": 46,
      "metadata": {
        "id": "CWsmxSYrdL1Q"
      },
      "outputs": [],
      "source": [
        "imageio.imwrite(\"diff_nums.jpg\", img_sub_norm)"
      ]
    }
  ],
  "metadata": {
    "kernelspec": {
      "display_name": "Python 3",
      "language": "python",
      "name": "python3"
    },
    "language_info": {
      "codemirror_mode": {
        "name": "ipython",
        "version": 3
      },
      "file_extension": ".py",
      "mimetype": "text/x-python",
      "name": "python",
      "nbconvert_exporter": "python",
      "pygments_lexer": "ipython3",
      "version": "3.9.2"
    },
    "colab": {
      "provenance": []
    }
  },
  "nbformat": 4,
  "nbformat_minor": 0
}