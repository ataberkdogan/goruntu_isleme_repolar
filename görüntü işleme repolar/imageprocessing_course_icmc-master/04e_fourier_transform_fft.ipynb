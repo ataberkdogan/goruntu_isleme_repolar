{
  "cells": [
    {
      "cell_type": "markdown",
      "metadata": {
        "id": "TjsK7L3RfPMC"
      },
      "source": [
        "## 04 - bölüm 4 - Hızlı Fourier Dönüşümü"
      ]
    },
    {
      "cell_type": "code",
      "execution_count": 1,
      "metadata": {
        "id": "ZG48rAYHfPMD"
      },
      "outputs": [],
      "source": [
        "import numpy as np\n",
        "import imageio\n",
        "import matplotlib.pyplot as plt\n",
        "import time\n",
        "from cmath import exp, pi"
      ]
    },
    {
      "cell_type": "markdown",
      "metadata": {
        "id": "Q8c5SCq7fPME"
      },
      "source": [
        "Hızlı Fourier Dönüşümü (FFT), önemsiz durum elde edilene kadar giriş dizisini yinelemeli olarak iki parçaya bölen bir *böl ve yönet* algoritmasıdır: biri tek endeksler için, diğeri çift endeksler için.\n",
        "\n",
        "Karmaşık üstellerin (sinüs ve kosinüs toplamına ayrıştırılabilen) periyodik ve simetrik olduğunu ve bu özelliklerden FFT'nin tanımlandığını unutmamak önemlidir.\n",
        "\n",
        "Özellikle, $e^{-j \\frac{2\\pi}{N} x u}$'dan sabit terimi izole ediyoruz ve onu bir değişken olarak tanımlıyoruz: $W = e^{-j \\frac{2\\ pi}{N}}$. Not $W$ sabittir çünkü zaman örneklemesine ($x$ tarafından kontrol edilir) veya frekanslara ($u$) bağlı değildir.\n",
        "\n",
        "Örneğin, 4 gözlemli bir sinyal için, yani $N=4$:\n"
      ]
    },
    {
      "cell_type": "code",
      "execution_count": 2,
      "metadata": {
        "colab": {
          "base_uri": "https://localhost:8080/"
        },
        "id": "k8xP53YBfPME",
        "outputId": "be93e4c6-8d9c-48e0-f855-ba57931e950d"
      },
      "outputs": [
        {
          "output_type": "stream",
          "name": "stdout",
          "text": [
            "(6.123233995736766e-17-1j)\n"
          ]
        }
      ],
      "source": [
        "N = 4\n",
        "W = exp(-1j*(2*pi)/N)\n",
        "print(W)"
      ]
    },
    {
      "cell_type": "markdown",
      "metadata": {
        "id": "19SExHBAfPMF"
      },
      "source": [
        "Bu değer $u$ veya $x$'a bağlı değildir. FFT'yi uygulamak için kullanacağımız iki özellik şunlardır:\n",
        "1. u,x'deki periyodiklik: $W_N^{ux} = W_N^{u(N+x)} = W_N^{(u+N)x}$\n",
        "\n",
        "2. karmaşık eşleniğin simetrisi: $W_N^{u(N-x)} = W_N^{-ux} = (W_N^{ux})^*$\n",
        "   örneğin $x=N$, $W_N^{uN} = e^{-j2\\pi u} =1$ için bunu görmek kolaydır\n",
        "   \n",
        "Şimdi algoritmanın **bölme** adımını tanımlıyoruz. Bu, dönüşümü $x$'in çift ve tek endekslerine ayrıştırarak yapılır. Karmaşık bir gösterimden kaçınmak için dönüşümü $W$ değişkeni cinsinden ifade edelim:\n",
        "\n",
        "$F(u) = \\sum_{x=0}^{N-1} f(x)W_N^{ux}$\n",
        "\n",
        "Şimdi $2x$ çift endekslerini ve $2x+1$ tek endekslerini değerlendirme fonksiyonunu yazıyoruz:\n",
        "\n",
        "$F(u) = \\sum_{x = 0}^{N/2-1} f(2x)W_N^{u(2x)} +  \\sum_{x =0}^{N/2-1} f(2x+1)W_N^{u(2x+1)}$\n",
        "\n",
        "$2x$ $0,2,4,6$ dizisini oluştururken $2x+1$ $1,3,5,7$ dizisini istediğimiz gibi oluşturduğuna dikkat edin, dolayısıyla:\n",
        "\n",
        "$F(u) = \\sum_{x = 0}^{N/2-1} f(2x)\\cdot(W_N^2)^{ux} +  \\sum_{x =0}^{N/2-1} f(2x+1)\\cdot (W_N^2)^{(2x+1)u}$\n",
        "\n",
        "$x$'den bağımsız terimleri, yani $W_N^u$'ı ayırarak bu toplamı değiştirelim:\n",
        "\n",
        "$F(u) = \\sum_{x = 0}^{N/2-1} f(2x)\\cdot(W_N^2)^{ux} +  W_N^u \\cdot \\sum_{x =0}^{N/2-1} f(2x+1)\\cdot (W_N^2)^{ux}$\n",
        "\n",
        "Ama biz öyle değiliz\n",
        "$W_N^2 = e^{-j\\frac{2\\pi}{N}2} = e^{-j\\frac{2\\pi}{N/2}} = W_{N/2}$\n",
        "\n",
        "ve bu 'numara'yı tanımlar, çünkü dönüşümü şu şekilde yazmaya izin verir:\n",
        "\n",
        "$F(u) = \\sum_{x = 0}^{N/2-1} f(2x)\\cdot W_{N/2}^{ux} + W_N^u \\cdot \\sum_{x =0} ^{N/2-1} f(2x+1)\\cdot W_{N/2}^{ux}$\n",
        "\n",
        "İlk terim çift endekslere karşılık gelen $N/2$ öğelerinin DFT'sidir, ikinci terim ise tek endekslere ilişkin $N/2$ öğelerinin DFT'sidir.\n",
        "\n",
        "Bu şekilde, $N$ öğelerinin DFT'sini yinelemeli bir şekilde iki $N/2$ DFT'ye bölebilir ve daha sonra sonuçları birleştirebiliriz:\n",
        "\n",
        "$F(u) = F_\\text{çift}(u) + W_N^u \\cdot F_\\text{tek}(u)$\n",
        "\n",
        "Karmaşık eşleniklerin simetri özelliğini hatırlayın:\n",
        "\n",
        "$F(u+N/2) = F_\\text{çift}(u) - W_N^u \\cdot F_\\text{tek}(u)$"
      ]
    },
    {
      "cell_type": "code",
      "execution_count": 3,
      "metadata": {
        "colab": {
          "base_uri": "https://localhost:8080/"
        },
        "id": "JPooLRjpfPMF",
        "outputId": "463033e8-f1e8-4de7-c130-ff0ba118ed1d"
      },
      "outputs": [
        {
          "output_type": "execute_result",
          "data": {
            "text/plain": [
              "[0, 100, 200, 300]"
            ]
          },
          "metadata": {},
          "execution_count": 3
        }
      ],
      "source": [
        "# küçük bir örnekle bu fikri kavramaya çalışalım\n",
        "N = 4\n",
        "f = [0,100,200,300]\n",
        "f"
      ]
    },
    {
      "cell_type": "code",
      "execution_count": 4,
      "metadata": {
        "colab": {
          "base_uri": "https://localhost:8080/"
        },
        "id": "fou2y62jfPMF",
        "outputId": "6514b70e-9b88-4d4e-b0ec-96c28ab1d8f6"
      },
      "outputs": [
        {
          "output_type": "stream",
          "name": "stdout",
          "text": [
            "[0, 200]\n",
            "[100, 300]\n"
          ]
        }
      ],
      "source": [
        "# diziyi çift ve tek indekslere bölme\n",
        "f_even= f[0::2]\n",
        "f_odd = f[1::2]\n",
        "print(f_even)\n",
        "print(f_odd)"
      ]
    },
    {
      "cell_type": "code",
      "execution_count": 5,
      "metadata": {
        "colab": {
          "base_uri": "https://localhost:8080/"
        },
        "id": "QR60-wCZfPMF",
        "outputId": "c5997456-b82e-4dc5-dc2d-a2d06ef42cbd"
      },
      "outputs": [
        {
          "output_type": "stream",
          "name": "stdout",
          "text": [
            "[0]\n",
            "[200]\n"
          ]
        }
      ],
      "source": [
        "# yinelemeli olarak, elde edilen dizileri, ilk olarak çift olanı, çift ve tek indekslere böleriz\n",
        "f_even_even = f_even[0::2]\n",
        "f_even_odd = f_even[1::2]\n",
        "print(f_even_even)\n",
        "print(f_even_odd)"
      ]
    },
    {
      "cell_type": "markdown",
      "metadata": {
        "id": "2la9cQ5pfPMF"
      },
      "source": [
        "Bu basit örnekte, temel duruma ulaşana kadar, yani yalnızca 1 çift ve 1 tek öğe olduğunda öğeleri bölümlendiriyoruz ve hesaplamaya izin veriyoruz:"
      ]
    },
    {
      "cell_type": "code",
      "execution_count": 6,
      "metadata": {
        "colab": {
          "base_uri": "https://localhost:8080/"
        },
        "id": "h-Hhv96yfPMF",
        "outputId": "b304fc46-489a-4982-aba1-f014e0b6d409"
      },
      "outputs": [
        {
          "output_type": "stream",
          "name": "stdout",
          "text": [
            "[(200+0j), (-200+0j)]\n"
          ]
        }
      ],
      "source": [
        "reseven0 = f_even_even[0] + exp(-2j*pi*0/N) * f_even_odd[0]\n",
        "reseven1 = f_even_even[0] - exp(-2j*pi*0/N) * f_even_odd[0]\n",
        "reseven = [reseven0, reseven1]\n",
        "print(reseven)"
      ]
    },
    {
      "cell_type": "markdown",
      "metadata": {
        "id": "at079-udfPMG"
      },
      "source": [
        "Şimdi bu sonuç saklanır ve ilk tek indekslere göre özyinelemenin diğer 'tarafını' yürütürüz"
      ]
    },
    {
      "cell_type": "code",
      "execution_count": 7,
      "metadata": {
        "colab": {
          "base_uri": "https://localhost:8080/"
        },
        "id": "yng6M46qfPMG",
        "outputId": "e0789b15-ae65-4ba5-b3ed-432f418c702f"
      },
      "outputs": [
        {
          "output_type": "stream",
          "name": "stdout",
          "text": [
            "[100]\n",
            "[300]\n"
          ]
        }
      ],
      "source": [
        "# tek endeksleri çift ve tek endekslere ayırın\n",
        "f_odd_even = f_odd[0::2]\n",
        "f_odd_odd = f_odd[1::2]\n",
        "print(f_odd_even)\n",
        "print(f_odd_odd)"
      ]
    },
    {
      "cell_type": "code",
      "execution_count": 8,
      "metadata": {
        "colab": {
          "base_uri": "https://localhost:8080/"
        },
        "id": "EDpt8spJfPMG",
        "outputId": "3cf186e4-de11-4248-b55d-7139e2cde54b"
      },
      "outputs": [
        {
          "output_type": "stream",
          "name": "stdout",
          "text": [
            "[(400+0j), (-200+0j)]\n"
          ]
        }
      ],
      "source": [
        "resodd0 = f_odd_even[0] + exp(-2j*pi*0/N) * f_odd_odd[0]\n",
        "resodd1 = f_odd_even[0] - exp(-2j*pi*0/N) * f_odd_odd[0]\n",
        "resodd = [resodd0, resodd1]\n",
        "print(resodd)"
      ]
    },
    {
      "cell_type": "markdown",
      "metadata": {
        "id": "4rcvJNz2fPMG"
      },
      "source": [
        "Şimdi bireysel sonuçları birleştirelim (yeniden eşitle ve yeniden sırala):"
      ]
    },
    {
      "cell_type": "code",
      "execution_count": 9,
      "metadata": {
        "colab": {
          "base_uri": "https://localhost:8080/"
        },
        "id": "E9LWLnKafPMG",
        "outputId": "36aa9b8f-1faf-4b12-bc19-91868a8eeba5"
      },
      "outputs": [
        {
          "output_type": "stream",
          "name": "stdout",
          "text": [
            "[ 600.  +0.j -200.+200.j -200.  +0.j -200.-200.j]\n"
          ]
        }
      ],
      "source": [
        "# simetrik özelliğinden 0 sonucunu şunun için de kullanabilirim:\n",
        "# sinyali değiştirerek 0+N/2 = N/4 = 2 değerini elde edin\n",
        "res0 = reseven[0] + exp(-2j*pi*0/N) * resodd[0]\n",
        "res2 = reseven[0] - exp(-2j*pi*0/N) * resodd[0]\n",
        "\n",
        "# benzer şekilde sonuç 1, 1+N/2 = 1+N/4 = 3 sonucunu elde etmek için kullanılır\n",
        "res1 = reseven[1] + exp(-2j*pi*1/N) * resodd[1]\n",
        "res3 = reseven[1] - exp(-2j*pi*1/N) * resodd[1]\n",
        "\n",
        "#her şeyi bir araya getirmek\n",
        "F_manual =  np.array([res0, res1, res2, res3]).astype(np.complex64)\n",
        "print(F_manual)"
      ]
    },
    {
      "cell_type": "markdown",
      "metadata": {
        "id": "7IdS9EzJfPMG"
      },
      "source": [
        "Bu algoritma için bir fonksiyon kodlayalım"
      ]
    },
    {
      "cell_type": "code",
      "execution_count": 10,
      "metadata": {
        "id": "tYRHpTUnfPMG"
      },
      "outputs": [],
      "source": [
        "def FFT(f):\n",
        "    N = len(f)\n",
        "    if N <= 1:\n",
        "        return f\n",
        "\n",
        "    # bölüm\n",
        "    even= FFT(f[0::2])\n",
        "    odd = FFT(f[1::2])\n",
        "\n",
        "    # sonuçların kombinasyonunu saklayın\n",
        "    temp = np.zeros(N).astype(np.complex64)\n",
        "\n",
        "    # yalnızca frekansların yarısını hesaplamak için gerekli\n",
        "    # u+N/2 simetri özelliğinden elde edilebildiğinden\n",
        "    for u in range(N//2):\n",
        "        temp[u] = even[u] + exp(-2j*pi*u/N) * odd[u] # fethetmek\n",
        "        temp[u+N//2] = even[u] - exp(-2j*pi*u/N)*odd[u]  # fethetmek\n",
        "\n",
        "    return temp"
      ]
    },
    {
      "cell_type": "code",
      "execution_count": 11,
      "metadata": {
        "colab": {
          "base_uri": "https://localhost:8080/"
        },
        "id": "tA4cadHhfPMG",
        "outputId": "c33230e6-ecd1-4bae-ce3a-5e530ebe3181"
      },
      "outputs": [
        {
          "output_type": "stream",
          "name": "stdout",
          "text": [
            "[ 600.  +0.j -200.+200.j -200.  +0.j -200.-200.j]\n"
          ]
        }
      ],
      "source": [
        "# manuel hesaplamayla eşleşip eşleşmediğini görmek için fonksiyonun test edilmesi\n",
        "F_fft = FFT(f)\n",
        "print(F_fft)"
      ]
    },
    {
      "cell_type": "code",
      "execution_count": 12,
      "metadata": {
        "colab": {
          "base_uri": "https://localhost:8080/"
        },
        "id": "ivlHAmEjfPMG",
        "outputId": "375e094a-e266-4be7-91e4-8782f4d2d1a6"
      },
      "outputs": [
        {
          "output_type": "stream",
          "name": "stdout",
          "text": [
            "[ 600.+0.000000e+00j -200.+2.000000e+02j -200.-7.347881e-14j\n",
            " -200.-2.000000e+02j]\n"
          ]
        }
      ],
      "source": [
        "# DFT1D ile karşılaştıralım\n",
        "def DFT1D(f):\n",
        "    # karmaşık katsayılardan oluşan boş bir dizi oluştur\n",
        "    F = np.zeros(f.shape, dtype=np.complex64)\n",
        "    n = f.shape[0]\n",
        "\n",
        "    # x için indeksler oluşturarak çarpma işleminin numpy (f*exp) kullanılarak hesaplanmasına olanak sağlar\n",
        "    x = np.arange(n)\n",
        "    # her 'u' frekansı için vektörel çarpım ve toplam yapın\n",
        "    for u in np.arange(n):\n",
        "        F[u] = np.sum(f*np.exp( (-1j * 2 * np.pi * u*x) / n ))\n",
        "\n",
        "    return F\n",
        "\n",
        "F_dft = DFT1D(np.array(f))\n",
        "print(F_dft)"
      ]
    },
    {
      "cell_type": "code",
      "execution_count": 13,
      "metadata": {
        "colab": {
          "base_uri": "https://localhost:8080/"
        },
        "id": "tFwOq1_AfPMH",
        "outputId": "91a3fc11-2d0d-4416-c865-3ffecbb9b0e4"
      },
      "outputs": [
        {
          "output_type": "stream",
          "name": "stdout",
          "text": [
            "[ 600.+0.000000e+00j -200.+2.000000e+02j -200.-7.347881e-14j\n",
            " -200.-2.000000e+02j]\n",
            "[ 600.  +0.j -200.+200.j -200.  +0.j -200.-200.j]\n",
            "[ 600.  +0.j -200.+200.j -200.  +0.j -200.-200.j]\n"
          ]
        }
      ],
      "source": [
        "# 3 sonucun yazdırılması\n",
        "print(F_dft)\n",
        "print(F_manual)\n",
        "print(F_fft)"
      ]
    },
    {
      "cell_type": "markdown",
      "metadata": {
        "id": "z0aDTha2fPMH"
      },
      "source": [
        "Yaklaşıklık nedeniyle bazen sonuçlar arasında küçük bir hata gözlenir.\n",
        "\n",
        "DFT ve FFT'nin çalışma sürelerini karşılaştıralım:"
      ]
    },
    {
      "cell_type": "code",
      "execution_count": 14,
      "metadata": {
        "colab": {
          "base_uri": "https://localhost:8080/"
        },
        "id": "s8Lf7Nz8fPMH",
        "outputId": "8c362899-c38b-4f5b-fe4e-2cfd02a551da"
      },
      "outputs": [
        {
          "output_type": "stream",
          "name": "stdout",
          "text": [
            "(20000,)\n"
          ]
        }
      ],
      "source": [
        "# 10000 elemanlı bir dizi\n",
        "t = np.arange(0, 2, 0.0001)\n",
        "f = 1*np.sin(t*(2*np.pi) * 2) + 0.6*np.cos(t*(2*np.pi) * 8) + 0.4*np.cos(t*(2*np.pi) * 16)\n",
        "print(t.shape)"
      ]
    },
    {
      "cell_type": "code",
      "execution_count": 15,
      "metadata": {
        "colab": {
          "base_uri": "https://localhost:8080/"
        },
        "id": "ok7040wRfPMH",
        "outputId": "f2029993-8f8f-4667-ca2c-002193b0962b"
      },
      "outputs": [
        {
          "output_type": "stream",
          "name": "stdout",
          "text": [
            "DFT Running time: 29.59745502471924 sec.\n",
            "FFT Running time: 1.5237364768981934 sec.\n"
          ]
        }
      ],
      "source": [
        "start = time.time()\n",
        "F_dft = DFT1D(np.array(f))\n",
        "end = time.time()\n",
        "elapsed = end - start\n",
        "print(\"DFT Running time: \" + str(elapsed) + \" sec.\")\n",
        "\n",
        "start = time.time()\n",
        "F_fft = FFT(np.array(f))\n",
        "end = time.time()\n",
        "elapsed = end - start\n",
        "print(\"FFT Running time: \" + str(elapsed) + \" sec.\")"
      ]
    },
    {
      "cell_type": "markdown",
      "metadata": {
        "id": "HdfFTU-2fPMH"
      },
      "source": [
        "FFT'nin bu uygulamasının, girdinin $n = 2^p$ boyutunda olduğunu varsaydığını unutmayın; bu nedenle, $n$ ikinin katı olmadığında bu sorunun üstesinden gelmek için alternatifler kullanmak zorunda kalacağız (kullanımına izin veren algoritmalar vardır). herhangi bir $n$ değeri). Her durumda, $O(N \\log N)$ karmaşıklığındaki Fourier Dönüşümünün hesaplanmasına izin veren bir algoritmaya değer."
      ]
    }
  ],
  "metadata": {
    "kernelspec": {
      "display_name": "Python 3",
      "language": "python",
      "name": "python3"
    },
    "language_info": {
      "codemirror_mode": {
        "name": "ipython",
        "version": 3
      },
      "file_extension": ".py",
      "mimetype": "text/x-python",
      "name": "python",
      "nbconvert_exporter": "python",
      "pygments_lexer": "ipython3",
      "version": "3.8.2"
    },
    "colab": {
      "provenance": []
    }
  },
  "nbformat": 4,
  "nbformat_minor": 0
}